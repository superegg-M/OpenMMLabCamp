{
 "cells": [
  {
   "cell_type": "markdown",
   "id": "c61211b3-6d79-4f9b-8cad-9cd42cac4c8d",
   "metadata": {},
   "source": [
    "# 三角板目标检测-下载config配置文件\n",
    "\n",
    "同济子豪兄 2023-4-6"
   ]
  },
  {
   "cell_type": "markdown",
   "id": "5bbb24a2-6d24-47cb-93b1-abe14d0523e8",
   "metadata": {
    "tags": []
   },
   "source": [
    "## 进入 mmpose 主目录 或 mmdetection 主目录"
   ]
  },
  {
   "cell_type": "code",
   "execution_count": 1,
   "id": "dbbd6d2c-878d-43c3-bec4-d4f4fe94efd4",
   "metadata": {},
   "outputs": [],
   "source": [
    "import os\n",
    "os.chdir('mmpose')\n",
    "# os.chdir('mmdetection')"
   ]
  },
  {
   "cell_type": "markdown",
   "id": "4987be2c-d1e5-407a-886c-b1aaa93881df",
   "metadata": {},
   "source": [
    "## 下载config配置文件至`data`目录"
   ]
  },
  {
   "cell_type": "code",
   "execution_count": 4,
   "id": "c12435b7-7a18-44e7-a434-7baed8a0c668",
   "metadata": {},
   "outputs": [],
   "source": [
    "# Faster R CNN 三角板目标检测\n",
    "!rm -rf data/faster_r_cnn_triangle.py\n",
    "!wget https://zihao-openmmlab.obs.myhuaweicloud.com/20220610-mmpose/triangle_dataset/faster_r_cnn_triangle.py -P data"
   ]
  },
  {
   "cell_type": "code",
   "execution_count": 5,
   "id": "52d7bb83-aa4e-4a61-abdb-5cbb026f8559",
   "metadata": {},
   "outputs": [],
   "source": [
    "# RTMDet-Tiny 三角板目标检测\n",
    "!rm -rf data/rtmdet_tiny_triangle.py\n",
    "!wget https://zihao-openmmlab.obs.myhuaweicloud.com/20220610-mmpose/triangle_dataset/rtmdet_tiny_triangle.py -P data"
   ]
  },
  {
   "cell_type": "markdown",
   "id": "e4f43d55-6d19-427d-b78b-5104512f8a59",
   "metadata": {},
   "source": [
    "## 注意，要在`mmpose`和`mmdetection`两个目录都运行一遍"
   ]
  },
  {
   "cell_type": "code",
   "execution_count": null,
   "id": "a8dd5db4-edae-4065-8c1d-d370fe810364",
   "metadata": {},
   "outputs": [],
   "source": []
  }
 ],
 "metadata": {
  "kernelspec": {
   "display_name": "Python 3 (ipykernel)",
   "language": "python",
   "name": "python3"
  },
  "language_info": {
   "codemirror_mode": {
    "name": "ipython",
    "version": 3
   },
   "file_extension": ".py",
   "mimetype": "text/x-python",
   "name": "python",
   "nbconvert_exporter": "python",
   "pygments_lexer": "ipython3",
   "version": "3.9.16"
  }
 },
 "nbformat": 4,
 "nbformat_minor": 5
}
