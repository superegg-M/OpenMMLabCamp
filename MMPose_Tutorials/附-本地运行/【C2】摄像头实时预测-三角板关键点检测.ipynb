{
 "cells": [
  {
   "cell_type": "markdown",
   "id": "66029b2a",
   "metadata": {},
   "source": [
    "# 摄像头实时预测-三角板关键点检测\n",
    "\n",
    "同济子豪兄 2023-5-12 5-24"
   ]
  },
  {
   "cell_type": "markdown",
   "id": "c903033e",
   "metadata": {},
   "source": [
    "## 进入mmpose目录"
   ]
  },
  {
   "cell_type": "code",
   "execution_count": 1,
   "id": "7fdc87dc",
   "metadata": {},
   "outputs": [],
   "source": [
    "import os\n",
    "os.chdir('mmpose')"
   ]
  },
  {
   "cell_type": "markdown",
   "id": "d35d5fbb",
   "metadata": {},
   "source": [
    "## MMPose官方摄像头预测"
   ]
  },
  {
   "cell_type": "code",
   "execution_count": 1,
   "id": "905827fb",
   "metadata": {},
   "outputs": [],
   "source": [
    "# RTMDet --> RTMPose\n",
    "!python demo/topdown_demo_with_mmdet.py \\\n",
    "        data/rtmdet_tiny_triangle.py \\\n",
    "        checkpoint/rtmdet_tiny_triangle_epoch_200_202305120847-3cd02a8f.pth \\\n",
    "        data/rtmpose-s-triangle.py \\\n",
    "        checkpoint/rtmpose-s-triangle-300-32642023_20230524.pth \\\n",
    "        --input webcam \\\n",
    "        --output-root outputs/C2_Video \\\n",
    "        --device cpu \\\n",
    "        --bbox-thr 0.6 \\\n",
    "        --kpt-thr 0.5 \\\n",
    "        --nms-thr 0.3 \\\n",
    "        --radius 16 \\\n",
    "        --thickness 3 \\\n",
    "        --draw-bbox \\\n",
    "        --draw-heatmap \\\n",
    "        --show-kpt-idx \\\n",
    "        --show "
   ]
  },
  {
   "cell_type": "markdown",
   "id": "5bc714cb",
   "metadata": {},
   "source": [
    "## MMPose官方的Webcam API（按ESC键退出）"
   ]
  },
  {
   "cell_type": "code",
   "execution_count": 3,
   "id": "6c2a0d8f",
   "metadata": {},
   "outputs": [],
   "source": [
    "# 下载配置文件\n",
    "\n",
    "# !rm -rf mmpose\\apis\\webcam\\nodes\\model_nodes\\pose_estimator_node.py\n",
    "# !wget https://zihao-openmmlab.obs.myhuaweicloud.com/20220610-mmpose/triangle_dataset/webcam/pose_estimator_node.py -P mmpose\\apis\\webcam\\nodes\\model_nodes\n",
    "    \n",
    "!rm -rf demo/webcam_cfg/triangle_estimation.py\n",
    "!wget https://zihao-openmmlab.obs.myhuaweicloud.com/20220610-mmpose/triangle_dataset/webcam/triangle_estimation.py -P demo/webcam_cfg"
   ]
  },
  {
   "cell_type": "code",
   "execution_count": 1,
   "id": "29c5250a",
   "metadata": {},
   "outputs": [],
   "source": [
    "# 命令行运行\n",
    "!python demo/webcam_api_demo.py \\\n",
    "        --config demo/webcam_cfg/triangle_estimation.py \\\n",
    "        --cpu"
   ]
  },
  {
   "cell_type": "markdown",
   "id": "49073876",
   "metadata": {},
   "source": [
    "## OpenCV"
   ]
  },
  {
   "cell_type": "code",
   "execution_count": 2,
   "id": "1dcfd990",
   "metadata": {},
   "outputs": [
    {
     "name": "stderr",
     "output_type": "stream",
     "text": [
      "/Users/tommy/opt/anaconda3/envs/open-mmlab/lib/python3.7/site-packages/tqdm/auto.py:22: TqdmWarning: IProgress not found. Please update jupyter and ipywidgets. See https://ipywidgets.readthedocs.io/en/stable/user_install.html\n",
      "  from .autonotebook import tqdm as notebook_tqdm\n"
     ]
    }
   ],
   "source": [
    "import time\n",
    "\n",
    "import cv2\n",
    "import numpy as np\n",
    "\n",
    "import torch\n",
    "\n",
    "import mmcv\n",
    "from mmcv import imread\n",
    "import mmengine\n",
    "from mmengine.registry import init_default_scope\n",
    "\n",
    "from mmpose.apis import inference_topdown\n",
    "from mmpose.apis import init_model as init_pose_estimator\n",
    "from mmpose.evaluation.functional import nms\n",
    "\n",
    "from mmdet.apis import inference_detector, init_detector"
   ]
  },
  {
   "cell_type": "code",
   "execution_count": 3,
   "id": "75fb6727",
   "metadata": {
    "scrolled": true
   },
   "outputs": [
    {
     "name": "stdout",
     "output_type": "stream",
     "text": [
      "device cpu\n"
     ]
    }
   ],
   "source": [
    "# 有 GPU 就用 GPU，没有就用 CPU\n",
    "device = torch.device('cuda:0' if torch.cuda.is_available() else 'cpu')\n",
    "print('device', device)"
   ]
  },
  {
   "cell_type": "markdown",
   "id": "b519bc3a",
   "metadata": {},
   "source": [
    "## 准备好模型文件"
   ]
  },
  {
   "cell_type": "code",
   "execution_count": 4,
   "id": "eaec9532",
   "metadata": {},
   "outputs": [],
   "source": [
    "## 目标检测模型\n",
    "\n",
    "# data/rtmdet_tiny_triangle.py\n",
    "# checkpoint/rtmdet_tiny_triangle_epoch_200_202305120847-3cd02a8f.pth\n",
    "\n",
    "## 关键点检测模型\n",
    "\n",
    "# data/rtmpose-s-triangle.py\n",
    "# checkpoint/rtmpose-s-triangle-300-32642023_20230524.pth"
   ]
  },
  {
   "cell_type": "markdown",
   "id": "193bfc19",
   "metadata": {},
   "source": [
    "## 构建目标检测模型"
   ]
  },
  {
   "cell_type": "code",
   "execution_count": 5,
   "id": "1e1a79e1",
   "metadata": {},
   "outputs": [
    {
     "name": "stdout",
     "output_type": "stream",
     "text": [
      "Loads checkpoint by local backend from path: checkpoint/rtmdet_tiny_triangle_epoch_200_202305120847-3cd02a8f.pth\n"
     ]
    }
   ],
   "source": [
    "# RTMDet 三角板检测\n",
    "detector = init_detector(\n",
    "    'data/rtmdet_tiny_triangle.py',\n",
    "    'checkpoint/rtmdet_tiny_triangle_epoch_200_202305120847-3cd02a8f.pth',\n",
    "    device=device\n",
    ")"
   ]
  },
  {
   "cell_type": "markdown",
   "id": "b58f30d0",
   "metadata": {},
   "source": [
    "## 构建关键点检测模型"
   ]
  },
  {
   "cell_type": "code",
   "execution_count": 6,
   "id": "6df75351",
   "metadata": {},
   "outputs": [
    {
     "name": "stdout",
     "output_type": "stream",
     "text": [
      "Loads checkpoint by local backend from path: checkpoint/rtmpose-s-triangle-300-32642023_20230524.pth\n"
     ]
    }
   ],
   "source": [
    "pose_estimator = init_pose_estimator(\n",
    "    'data/rtmpose-s-triangle.py',\n",
    "    'checkpoint/rtmpose-s-triangle-300-32642023_20230524.pth',\n",
    "    device=device,\n",
    "    cfg_options={'model': {'test_cfg': {'output_heatmaps': True}}}\n",
    ")"
   ]
  },
  {
   "cell_type": "code",
   "execution_count": 7,
   "id": "59fcff4d",
   "metadata": {},
   "outputs": [],
   "source": [
    "from mmengine.model.utils import revert_sync_batchnorm\n",
    "if not torch.cuda.is_available():\n",
    "    pose_estimator = revert_sync_batchnorm(pose_estimator)"
   ]
  },
  {
   "cell_type": "code",
   "execution_count": 8,
   "id": "8260e74b",
   "metadata": {},
   "outputs": [
    {
     "name": "stdout",
     "output_type": "stream",
     "text": [
      "05/24 10:25:22 - mmengine - WARNING - The current default scope \"mmpose\" is not \"mmdet\", `init_default_scope` will force set the currentdefault scope to \"mmdet\".\n"
     ]
    }
   ],
   "source": [
    "init_default_scope(detector.cfg.get('default_scope', 'mmdet'))"
   ]
  },
  {
   "cell_type": "markdown",
   "id": "f359513f",
   "metadata": {},
   "source": [
    "## 数据集元数据"
   ]
  },
  {
   "cell_type": "code",
   "execution_count": 9,
   "id": "4a8cf407",
   "metadata": {},
   "outputs": [],
   "source": [
    "# 三角板关键点检测数据集-元数据（直接从config配置文件中粘贴）\n",
    "dataset_info = {\n",
    "    'keypoint_info':{\n",
    "        0:{'name':'angle_30','id':0,'color':[255,0,0],'type': '','swap': ''},\n",
    "        1:{'name':'angle_60','id':1,'color':[0,255,0],'type': '','swap': ''},\n",
    "        2:{'name':'angle_90','id':2,'color':[0,0,255],'type': '','swap': ''}\n",
    "    },\n",
    "    'skeleton_info': {\n",
    "        0: {'link':('angle_30','angle_60'),'id': 0,'color': [100,150,200]},\n",
    "        1: {'link':('angle_60','angle_90'),'id': 1,'color': [200,100,150]},\n",
    "        2: {'link':('angle_90','angle_30'),'id': 2,'color': [150,120,100]}\n",
    "    }\n",
    "}"
   ]
  },
  {
   "cell_type": "code",
   "execution_count": 10,
   "id": "dfae514c",
   "metadata": {},
   "outputs": [],
   "source": [
    "# 关键点类别和关键点ID的映射字典\n",
    "label2id = {}\n",
    "for each in dataset_info['keypoint_info'].items():\n",
    "    label2id[each[1]['name']] = each[0]"
   ]
  },
  {
   "cell_type": "markdown",
   "id": "5995f36d",
   "metadata": {},
   "source": [
    "## 可视化配置"
   ]
  },
  {
   "cell_type": "code",
   "execution_count": 11,
   "id": "2bc18097",
   "metadata": {},
   "outputs": [],
   "source": [
    "# 检测框的颜色\n",
    "bbox_color = (150,0,0)\n",
    "# 检测框的线宽\n",
    "bbox_thickness = 3\n",
    "# 关键点半径\n",
    "kpt_radius = 10\n",
    "# 连接线宽\n",
    "skeleton_thickness = 6\n",
    "\n",
    "# 目标检测置信度阈值\n",
    "CONF_THRES = 0.55"
   ]
  },
  {
   "cell_type": "markdown",
   "id": "f747acd9",
   "metadata": {},
   "source": [
    "## 逐帧处理函数"
   ]
  },
  {
   "cell_type": "code",
   "execution_count": 12,
   "id": "f7c1955d",
   "metadata": {},
   "outputs": [],
   "source": [
    "# 处理帧函数\n",
    "def process_frame(img):\n",
    "    '''输入BGR格式的 numpy array，输出BGR格式的 numpy array'''\n",
    "    \n",
    "    # 记录该帧开始处理的时间\n",
    "    start_time = time.time()\n",
    "    \n",
    "    # 逐帧处理操作\n",
    "\n",
    "    # 获取目标检测预测结果\n",
    "    init_default_scope(detector.cfg.get('default_scope', 'mmdet'))\n",
    "    detect_result = inference_detector(detector, img)\n",
    "    pred_instance = detect_result.pred_instances.cpu().numpy()\n",
    "    bboxes = np.concatenate((pred_instance.bboxes, pred_instance.scores[:, None]), axis=1)\n",
    "    bboxes = bboxes[np.logical_and(pred_instance.labels == 0, pred_instance.scores > CONF_THRES)]\n",
    "    bboxes = bboxes[nms(bboxes, 0.3)][:, :4].astype('int')\n",
    "    \n",
    "    # 获取每个 bbox 的关键点预测结果\n",
    "    pose_results = inference_topdown(pose_estimator, img, bboxes)\n",
    "    keypoints_all = []\n",
    "    for each in pose_results:\n",
    "        keypoints_all.append(each.pred_instances.keypoints[0].astype('int').tolist())\n",
    "        \n",
    "    for bbox_idx, bbox in enumerate(bboxes): # 遍历每个检测框\n",
    "\n",
    "        # 画框\n",
    "        img = cv2.rectangle(img, (bbox[0], bbox[1]), (bbox[2], bbox[3]), bbox_color, bbox_thickness)\n",
    "\n",
    "        # 索引为 bbox_idx 的框，每个关键点的坐标\n",
    "        keypoints = keypoints_all[bbox_idx]\n",
    "\n",
    "        # 画连线\n",
    "        for skeleton_id, skeleton in dataset_info['skeleton_info'].items(): # 遍历每一种连接\n",
    "            skeleton_color = skeleton['color']\n",
    "            srt_kpt_id = label2id[skeleton['link'][0]] # 起始点的类别 ID\n",
    "            srt_kpt_xy = keypoints[srt_kpt_id]         # 起始点的 XY 坐标\n",
    "            dst_kpt_id = label2id[skeleton['link'][1]] # 终止点的类别 ID\n",
    "            dst_kpt_xy = keypoints[dst_kpt_id]         # 终止点的 XY 坐标\n",
    "            img = cv2.line(img, (srt_kpt_xy[0],srt_kpt_xy[1]),(dst_kpt_xy[0],dst_kpt_xy[1]),color=skeleton_color,thickness=skeleton_thickness)\n",
    "\n",
    "        # 画关键点\n",
    "        for kpt_idx, kpt_xy in enumerate(keypoints): # 遍历该检测框中的每一个关键点\n",
    "            kpt_color = dataset_info['keypoint_info'][kpt_idx]['color']\n",
    "            img = cv2.circle(img, (kpt_xy[0], kpt_xy[1]), kpt_radius, kpt_color, -1)\n",
    "    \n",
    "    # 记录该帧处理完毕的时间\n",
    "    end_time = time.time()\n",
    "    # 计算每秒处理图像帧数FPS\n",
    "    FPS = 1/(end_time - start_time)\n",
    "\n",
    "    # 在画面上写字：图片，字符串，左上角坐标，字体，字体大小，颜色，字体粗细\n",
    "    scaler = 1 # 文字大小\n",
    "    FPS_string = 'FPS  '+str(int(FPS)) # 写在画面上的字符串\n",
    "    img = cv2.putText(img, FPS_string, (25 * scaler, 100 * scaler), cv2.FONT_HERSHEY_SIMPLEX, 1.25 * scaler, (255, 0, 255), 2 * scaler)\n",
    "\n",
    "    return img"
   ]
  },
  {
   "cell_type": "markdown",
   "id": "290c0237",
   "metadata": {},
   "source": [
    "## 获取摄像头"
   ]
  },
  {
   "cell_type": "code",
   "execution_count": 13,
   "id": "7f16c729",
   "metadata": {},
   "outputs": [
    {
     "name": "stderr",
     "output_type": "stream",
     "text": [
      "OpenCV: out device of bound (0-0): 1\n",
      "OpenCV: camera failed to properly initialize!\n",
      "/Users/tommy/opt/anaconda3/envs/open-mmlab/lib/python3.7/site-packages/torch/autocast_mode.py:141: UserWarning: User provided device_type of 'cuda', but CUDA is not available. Disabling\n",
      "  warnings.warn('User provided device_type of \\'cuda\\', but CUDA is not available. Disabling')\n"
     ]
    },
    {
     "name": "stdout",
     "output_type": "stream",
     "text": [
      "05/24 10:25:33 - mmengine - WARNING - The current default scope \"mmdet\" is not \"mmpose\", `init_default_scope` will force set the currentdefault scope to \"mmpose\".\n"
     ]
    },
    {
     "name": "stderr",
     "output_type": "stream",
     "text": [
      "/Users/tommy/opt/anaconda3/envs/open-mmlab/lib/python3.7/site-packages/torch/functional.py:445: UserWarning: torch.meshgrid: in an upcoming release, it will be required to pass the indexing argument. (Triggered internally at  /Users/distiller/project/conda/conda-bld/pytorch_1634272480871/work/aten/src/ATen/native/TensorShape.cpp:2157.)\n",
      "  return _VF.meshgrid(tensors, **kwargs)  # type: ignore[attr-defined]\n",
      "/Users/tommy/Downloads/0518/附-本地运行/mmpose/mmpose/models/heads/coord_cls_heads/rtmcc_head.py:217: UserWarning: The predicted simcc values are normalized for visualization. This may cause discrepancy between the keypoint scores and the 1D heatmaps.\n",
      "  warnings.warn('The predicted simcc values are normalized for '\n"
     ]
    }
   ],
   "source": [
    "# 调用摄像头逐帧实时处理模板\n",
    "# 不需修改任何代码，只需修改process_frame函数即可\n",
    "# 同济子豪兄 2021-7-8\n",
    "\n",
    "# 导入opencv-python\n",
    "import cv2\n",
    "import time\n",
    "\n",
    "# 获取摄像头，传入0表示获取系统默认摄像头\n",
    "cap = cv2.VideoCapture(1)\n",
    "\n",
    "# 打开cap\n",
    "cap.open(0)\n",
    "\n",
    "# 无限循环，直到break被触发\n",
    "while cap.isOpened():\n",
    "    \n",
    "    # 获取画面\n",
    "    success, frame = cap.read()\n",
    "    \n",
    "    if not success: # 如果获取画面不成功，则退出\n",
    "        print('获取画面不成功，退出')\n",
    "        break\n",
    "    \n",
    "    ## 逐帧处理\n",
    "    frame = process_frame(frame)\n",
    "    \n",
    "    # 展示处理后的三通道图像\n",
    "    cv2.imshow('my_window',frame)\n",
    "    \n",
    "    key_pressed = cv2.waitKey(60) # 每隔多少毫秒毫秒，获取键盘哪个键被按下\n",
    "    # print('键盘上被按下的键：', key_pressed)\n",
    "\n",
    "    if key_pressed in [ord('q'),27]: # 按键盘上的q或esc退出（在英文输入法下）\n",
    "        break\n",
    "    \n",
    "# 关闭摄像头\n",
    "cap.release()\n",
    "\n",
    "# 关闭图像窗口\n",
    "cv2.destroyAllWindows()"
   ]
  },
  {
   "cell_type": "markdown",
   "id": "fa109d96",
   "metadata": {},
   "source": [
    "## 按`q`键或`Esc`键关闭画面"
   ]
  },
  {
   "cell_type": "code",
   "execution_count": null,
   "id": "b658271e",
   "metadata": {},
   "outputs": [],
   "source": []
  }
 ],
 "metadata": {
  "kernelspec": {
   "display_name": "Python 3 (ipykernel)",
   "language": "python",
   "name": "python3"
  },
  "language_info": {
   "codemirror_mode": {
    "name": "ipython",
    "version": 3
   },
   "file_extension": ".py",
   "mimetype": "text/x-python",
   "name": "python",
   "nbconvert_exporter": "python",
   "pygments_lexer": "ipython3",
   "version": "3.7.12"
  }
 },
 "nbformat": 4,
 "nbformat_minor": 5
}
