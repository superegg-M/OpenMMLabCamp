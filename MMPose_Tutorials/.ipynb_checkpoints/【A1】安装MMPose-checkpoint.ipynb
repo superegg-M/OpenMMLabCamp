{
 "cells": [
  {
   "cell_type": "markdown",
   "id": "bc3d1961-9081-49c9-be56-ad0c748decf1",
   "metadata": {},
   "source": [
    "# 安装MMPose"
   ]
  },
  {
   "cell_type": "markdown",
   "id": "0fc8ebd8-db6e-4a17-895f-2f87fc98ca79",
   "metadata": {},
   "source": [
    "按照顺序逐行运行本代码，即可安装配置 MMPose 环境\n",
    "\n",
    "推荐代码运行[云GPU环境](https://featurize.cn?s=d7ce99f842414bfcaea5662a97581bd1)：GPU RTX 3060、CUDA v11.2\n",
    "\n",
    "作者：同济子豪兄 2023-3-31"
   ]
  },
  {
   "cell_type": "markdown",
   "id": "63d0dc47-4601-49a3-8d25-12b4d24fa6f0",
   "metadata": {},
   "source": [
    "> 提示：以下代码运行时，若长时间运行卡着不动，可重启 kernel 后重新运行一遍"
   ]
  },
  {
   "cell_type": "markdown",
   "id": "6fc1c686-1267-4503-b9e4-bcb188a7f974",
   "metadata": {
    "tags": []
   },
   "source": [
    "## 安装Pytorch"
   ]
  },
  {
   "cell_type": "code",
   "execution_count": 2,
   "id": "2fef57fc-d5f0-4cd0-a134-1f025c15439f",
   "metadata": {},
   "outputs": [],
   "source": [
    "# 安装 Pytorch\n",
    "!pip3 install install torch==1.10.1+cu113 torchvision==0.11.2+cu113 torchaudio==0.10.1+cu113 -f https://download.pytorch.org/whl/cu113/torch_stable.html\n"
   ]
  },
  {
   "cell_type": "markdown",
   "id": "054b64e4-4796-4136-b45e-3664b281cf30",
   "metadata": {},
   "source": [
    "## 用MIM安装MMCV"
   ]
  },
  {
   "cell_type": "code",
   "execution_count": 1,
   "id": "83b1c9e3-0d69-423d-a8a2-172d18dfdb33",
   "metadata": {},
   "outputs": [
    {
     "name": "stdout",
     "output_type": "stream",
     "text": [
      "Looking in indexes: https://pypi.tuna.tsinghua.edu.cn/simple\n",
      "Requirement already satisfied: openmim in /home/superegg/anaconda3/envs/OpenMMLab/lib/python3.9/site-packages (0.3.7)\n",
      "Requirement already satisfied: Click in /home/superegg/anaconda3/envs/OpenMMLab/lib/python3.9/site-packages (from openmim) (8.1.3)\n",
      "Requirement already satisfied: pandas in /home/superegg/anaconda3/envs/OpenMMLab/lib/python3.9/site-packages (from openmim) (2.0.1)\n",
      "Requirement already satisfied: model-index in /home/superegg/anaconda3/envs/OpenMMLab/lib/python3.9/site-packages (from openmim) (0.1.11)\n",
      "Requirement already satisfied: pip>=19.3 in /home/superegg/anaconda3/envs/OpenMMLab/lib/python3.9/site-packages (from openmim) (23.0.1)\n",
      "Requirement already satisfied: requests in /home/superegg/anaconda3/envs/OpenMMLab/lib/python3.9/site-packages (from openmim) (2.29.0)\n",
      "Requirement already satisfied: rich in /home/superegg/anaconda3/envs/OpenMMLab/lib/python3.9/site-packages (from openmim) (13.3.5)\n",
      "Requirement already satisfied: tabulate in /home/superegg/anaconda3/envs/OpenMMLab/lib/python3.9/site-packages (from openmim) (0.9.0)\n",
      "Requirement already satisfied: colorama in /home/superegg/anaconda3/envs/OpenMMLab/lib/python3.9/site-packages (from openmim) (0.4.6)\n",
      "Requirement already satisfied: markdown in /home/superegg/anaconda3/envs/OpenMMLab/lib/python3.9/site-packages (from model-index->openmim) (3.4.3)\n",
      "Requirement already satisfied: ordered-set in /home/superegg/anaconda3/envs/OpenMMLab/lib/python3.9/site-packages (from model-index->openmim) (4.1.0)\n",
      "Requirement already satisfied: pyyaml in /home/superegg/anaconda3/envs/OpenMMLab/lib/python3.9/site-packages (from model-index->openmim) (6.0)\n",
      "Requirement already satisfied: tzdata>=2022.1 in /home/superegg/anaconda3/envs/OpenMMLab/lib/python3.9/site-packages (from pandas->openmim) (2023.3)\n",
      "Requirement already satisfied: python-dateutil>=2.8.2 in /home/superegg/anaconda3/envs/OpenMMLab/lib/python3.9/site-packages (from pandas->openmim) (2.8.2)\n",
      "Requirement already satisfied: numpy>=1.20.3 in /home/superegg/anaconda3/envs/OpenMMLab/lib/python3.9/site-packages (from pandas->openmim) (1.24.3)\n",
      "Requirement already satisfied: pytz>=2020.1 in /home/superegg/anaconda3/envs/OpenMMLab/lib/python3.9/site-packages (from pandas->openmim) (2022.7)\n",
      "Requirement already satisfied: urllib3<1.27,>=1.21.1 in /home/superegg/anaconda3/envs/OpenMMLab/lib/python3.9/site-packages (from requests->openmim) (1.26.15)\n",
      "Requirement already satisfied: certifi>=2017.4.17 in /home/superegg/anaconda3/envs/OpenMMLab/lib/python3.9/site-packages (from requests->openmim) (2023.5.7)\n",
      "Requirement already satisfied: idna<4,>=2.5 in /home/superegg/anaconda3/envs/OpenMMLab/lib/python3.9/site-packages (from requests->openmim) (3.4)\n",
      "Requirement already satisfied: charset-normalizer<4,>=2 in /home/superegg/anaconda3/envs/OpenMMLab/lib/python3.9/site-packages (from requests->openmim) (2.0.4)\n",
      "Requirement already satisfied: pygments<3.0.0,>=2.13.0 in /home/superegg/anaconda3/envs/OpenMMLab/lib/python3.9/site-packages (from rich->openmim) (2.15.1)\n",
      "Requirement already satisfied: markdown-it-py<3.0.0,>=2.2.0 in /home/superegg/anaconda3/envs/OpenMMLab/lib/python3.9/site-packages (from rich->openmim) (2.2.0)\n",
      "Requirement already satisfied: mdurl~=0.1 in /home/superegg/anaconda3/envs/OpenMMLab/lib/python3.9/site-packages (from markdown-it-py<3.0.0,>=2.2.0->rich->openmim) (0.1.2)\n",
      "Requirement already satisfied: six>=1.5 in /home/superegg/anaconda3/envs/OpenMMLab/lib/python3.9/site-packages (from python-dateutil>=2.8.2->pandas->openmim) (1.16.0)\n",
      "Requirement already satisfied: importlib-metadata>=4.4 in /home/superegg/anaconda3/envs/OpenMMLab/lib/python3.9/site-packages (from markdown->model-index->openmim) (6.0.0)\n",
      "Requirement already satisfied: zipp>=0.5 in /home/superegg/anaconda3/envs/OpenMMLab/lib/python3.9/site-packages (from importlib-metadata>=4.4->markdown->model-index->openmim) (3.11.0)\n",
      "Looking in indexes: https://pypi.tuna.tsinghua.edu.cn/simple\n",
      "Looking in links: https://download.openmmlab.com/mmcv/dist/cu117/torch2.0.0/index.html\n",
      "Requirement already satisfied: mmengine in /home/superegg/anaconda3/envs/OpenMMLab/lib/python3.9/site-packages (0.7.3)\n",
      "Requirement already satisfied: opencv-python>=3 in /home/superegg/anaconda3/envs/OpenMMLab/lib/python3.9/site-packages (from mmengine) (4.7.0.72)\n",
      "Requirement already satisfied: matplotlib in /home/superegg/anaconda3/envs/OpenMMLab/lib/python3.9/site-packages (from mmengine) (3.7.1)\n",
      "Requirement already satisfied: termcolor in /home/superegg/anaconda3/envs/OpenMMLab/lib/python3.9/site-packages (from mmengine) (2.3.0)\n",
      "Requirement already satisfied: pyyaml in /home/superegg/anaconda3/envs/OpenMMLab/lib/python3.9/site-packages (from mmengine) (6.0)\n",
      "Requirement already satisfied: yapf in /home/superegg/anaconda3/envs/OpenMMLab/lib/python3.9/site-packages (from mmengine) (0.33.0)\n",
      "Requirement already satisfied: rich in /home/superegg/anaconda3/envs/OpenMMLab/lib/python3.9/site-packages (from mmengine) (13.3.5)\n",
      "Requirement already satisfied: addict in /home/superegg/anaconda3/envs/OpenMMLab/lib/python3.9/site-packages (from mmengine) (2.4.0)\n",
      "Requirement already satisfied: numpy in /home/superegg/anaconda3/envs/OpenMMLab/lib/python3.9/site-packages (from mmengine) (1.24.3)\n",
      "Requirement already satisfied: packaging>=20.0 in /home/superegg/anaconda3/envs/OpenMMLab/lib/python3.9/site-packages (from matplotlib->mmengine) (23.0)\n",
      "Requirement already satisfied: pillow>=6.2.0 in /home/superegg/anaconda3/envs/OpenMMLab/lib/python3.9/site-packages (from matplotlib->mmengine) (9.5.0)\n",
      "Requirement already satisfied: importlib-resources>=3.2.0 in /home/superegg/anaconda3/envs/OpenMMLab/lib/python3.9/site-packages (from matplotlib->mmengine) (5.12.0)\n",
      "Requirement already satisfied: kiwisolver>=1.0.1 in /home/superegg/anaconda3/envs/OpenMMLab/lib/python3.9/site-packages (from matplotlib->mmengine) (1.4.4)\n",
      "Requirement already satisfied: contourpy>=1.0.1 in /home/superegg/anaconda3/envs/OpenMMLab/lib/python3.9/site-packages (from matplotlib->mmengine) (1.0.7)\n",
      "Requirement already satisfied: pyparsing>=2.3.1 in /home/superegg/anaconda3/envs/OpenMMLab/lib/python3.9/site-packages (from matplotlib->mmengine) (3.0.9)\n",
      "Requirement already satisfied: cycler>=0.10 in /home/superegg/anaconda3/envs/OpenMMLab/lib/python3.9/site-packages (from matplotlib->mmengine) (0.11.0)\n",
      "Requirement already satisfied: python-dateutil>=2.7 in /home/superegg/anaconda3/envs/OpenMMLab/lib/python3.9/site-packages (from matplotlib->mmengine) (2.8.2)\n",
      "Requirement already satisfied: fonttools>=4.22.0 in /home/superegg/anaconda3/envs/OpenMMLab/lib/python3.9/site-packages (from matplotlib->mmengine) (4.39.4)\n",
      "Requirement already satisfied: markdown-it-py<3.0.0,>=2.2.0 in /home/superegg/anaconda3/envs/OpenMMLab/lib/python3.9/site-packages (from rich->mmengine) (2.2.0)\n",
      "Requirement already satisfied: pygments<3.0.0,>=2.13.0 in /home/superegg/anaconda3/envs/OpenMMLab/lib/python3.9/site-packages (from rich->mmengine) (2.15.1)\n",
      "Requirement already satisfied: tomli>=2.0.1 in /home/superegg/anaconda3/envs/OpenMMLab/lib/python3.9/site-packages (from yapf->mmengine) (2.0.1)\n",
      "Requirement already satisfied: zipp>=3.1.0 in /home/superegg/anaconda3/envs/OpenMMLab/lib/python3.9/site-packages (from importlib-resources>=3.2.0->matplotlib->mmengine) (3.11.0)\n",
      "Requirement already satisfied: mdurl~=0.1 in /home/superegg/anaconda3/envs/OpenMMLab/lib/python3.9/site-packages (from markdown-it-py<3.0.0,>=2.2.0->rich->mmengine) (0.1.2)\n",
      "Requirement already satisfied: six>=1.5 in /home/superegg/anaconda3/envs/OpenMMLab/lib/python3.9/site-packages (from python-dateutil>=2.7->matplotlib->mmengine) (1.16.0)\n",
      "Looking in indexes: https://pypi.tuna.tsinghua.edu.cn/simple\n",
      "Looking in links: https://download.openmmlab.com/mmcv/dist/cu117/torch2.0.0/index.html\n",
      "Requirement already satisfied: mmcv>=2.0.0 in /home/superegg/anaconda3/envs/OpenMMLab/lib/python3.9/site-packages (2.0.0)\n",
      "Requirement already satisfied: pyyaml in /home/superegg/anaconda3/envs/OpenMMLab/lib/python3.9/site-packages (from mmcv>=2.0.0) (6.0)\n",
      "Requirement already satisfied: numpy in /home/superegg/anaconda3/envs/OpenMMLab/lib/python3.9/site-packages (from mmcv>=2.0.0) (1.24.3)\n",
      "Requirement already satisfied: yapf in /home/superegg/anaconda3/envs/OpenMMLab/lib/python3.9/site-packages (from mmcv>=2.0.0) (0.33.0)\n",
      "Requirement already satisfied: packaging in /home/superegg/anaconda3/envs/OpenMMLab/lib/python3.9/site-packages (from mmcv>=2.0.0) (23.0)\n",
      "Requirement already satisfied: opencv-python>=3 in /home/superegg/anaconda3/envs/OpenMMLab/lib/python3.9/site-packages (from mmcv>=2.0.0) (4.7.0.72)\n",
      "Requirement already satisfied: mmengine>=0.2.0 in /home/superegg/anaconda3/envs/OpenMMLab/lib/python3.9/site-packages (from mmcv>=2.0.0) (0.7.3)\n",
      "Requirement already satisfied: Pillow in /home/superegg/anaconda3/envs/OpenMMLab/lib/python3.9/site-packages (from mmcv>=2.0.0) (9.5.0)\n",
      "Requirement already satisfied: addict in /home/superegg/anaconda3/envs/OpenMMLab/lib/python3.9/site-packages (from mmcv>=2.0.0) (2.4.0)\n"
     ]
    },
    {
     "name": "stdout",
     "output_type": "stream",
     "text": [
      "Requirement already satisfied: matplotlib in /home/superegg/anaconda3/envs/OpenMMLab/lib/python3.9/site-packages (from mmengine>=0.2.0->mmcv>=2.0.0) (3.7.1)\n",
      "Requirement already satisfied: termcolor in /home/superegg/anaconda3/envs/OpenMMLab/lib/python3.9/site-packages (from mmengine>=0.2.0->mmcv>=2.0.0) (2.3.0)\n",
      "Requirement already satisfied: rich in /home/superegg/anaconda3/envs/OpenMMLab/lib/python3.9/site-packages (from mmengine>=0.2.0->mmcv>=2.0.0) (13.3.5)\n",
      "Requirement already satisfied: tomli>=2.0.1 in /home/superegg/anaconda3/envs/OpenMMLab/lib/python3.9/site-packages (from yapf->mmcv>=2.0.0) (2.0.1)\n",
      "Requirement already satisfied: contourpy>=1.0.1 in /home/superegg/anaconda3/envs/OpenMMLab/lib/python3.9/site-packages (from matplotlib->mmengine>=0.2.0->mmcv>=2.0.0) (1.0.7)\n",
      "Requirement already satisfied: python-dateutil>=2.7 in /home/superegg/anaconda3/envs/OpenMMLab/lib/python3.9/site-packages (from matplotlib->mmengine>=0.2.0->mmcv>=2.0.0) (2.8.2)\n",
      "Requirement already satisfied: kiwisolver>=1.0.1 in /home/superegg/anaconda3/envs/OpenMMLab/lib/python3.9/site-packages (from matplotlib->mmengine>=0.2.0->mmcv>=2.0.0) (1.4.4)\n",
      "Requirement already satisfied: cycler>=0.10 in /home/superegg/anaconda3/envs/OpenMMLab/lib/python3.9/site-packages (from matplotlib->mmengine>=0.2.0->mmcv>=2.0.0) (0.11.0)\n",
      "Requirement already satisfied: pyparsing>=2.3.1 in /home/superegg/anaconda3/envs/OpenMMLab/lib/python3.9/site-packages (from matplotlib->mmengine>=0.2.0->mmcv>=2.0.0) (3.0.9)\n",
      "Requirement already satisfied: importlib-resources>=3.2.0 in /home/superegg/anaconda3/envs/OpenMMLab/lib/python3.9/site-packages (from matplotlib->mmengine>=0.2.0->mmcv>=2.0.0) (5.12.0)\n",
      "Requirement already satisfied: fonttools>=4.22.0 in /home/superegg/anaconda3/envs/OpenMMLab/lib/python3.9/site-packages (from matplotlib->mmengine>=0.2.0->mmcv>=2.0.0) (4.39.4)\n",
      "Requirement already satisfied: pygments<3.0.0,>=2.13.0 in /home/superegg/anaconda3/envs/OpenMMLab/lib/python3.9/site-packages (from rich->mmengine>=0.2.0->mmcv>=2.0.0) (2.15.1)\n",
      "Requirement already satisfied: markdown-it-py<3.0.0,>=2.2.0 in /home/superegg/anaconda3/envs/OpenMMLab/lib/python3.9/site-packages (from rich->mmengine>=0.2.0->mmcv>=2.0.0) (2.2.0)\n",
      "Requirement already satisfied: zipp>=3.1.0 in /home/superegg/anaconda3/envs/OpenMMLab/lib/python3.9/site-packages (from importlib-resources>=3.2.0->matplotlib->mmengine>=0.2.0->mmcv>=2.0.0) (3.11.0)\n",
      "Requirement already satisfied: mdurl~=0.1 in /home/superegg/anaconda3/envs/OpenMMLab/lib/python3.9/site-packages (from markdown-it-py<3.0.0,>=2.2.0->rich->mmengine>=0.2.0->mmcv>=2.0.0) (0.1.2)\n",
      "Requirement already satisfied: six>=1.5 in /home/superegg/anaconda3/envs/OpenMMLab/lib/python3.9/site-packages (from python-dateutil>=2.7->matplotlib->mmengine>=0.2.0->mmcv>=2.0.0) (1.16.0)\n",
      "Looking in indexes: https://pypi.tuna.tsinghua.edu.cn/simple\n",
      "Looking in links: https://download.openmmlab.com/mmcv/dist/cu117/torch2.0.0/index.html\n",
      "Collecting mmdet>=3.0.0rc6\n",
      "  Downloading https://pypi.tuna.tsinghua.edu.cn/packages/2d/6a/1f97b0f476f64ed46dedc6b235ba51a5ef4c32db65702bf04d7a7de4ad51/mmdet-3.0.0-py3-none-any.whl (1.7 MB)\n",
      "\u001b[2K     \u001b[90m━━━━━━━━━━━━━━━━━━━━━━━━━━━━━━━━━━━━━━━━\u001b[0m \u001b[32m1.7/1.7 MB\u001b[0m \u001b[31m4.9 MB/s\u001b[0m eta \u001b[36m0:00:00\u001b[0m00:01\u001b[0m00:01\u001b[0m\n",
      "\u001b[?25hCollecting pycocotools\n",
      "  Downloading https://pypi.tuna.tsinghua.edu.cn/packages/ef/c6/90220be3b39fbc4cbd203775ca47dd8dc97fae06fbd2b500637395621b7c/pycocotools-2.0.6.tar.gz (24 kB)\n",
      "  Installing build dependencies ... \u001b[?25ldone\n",
      "\u001b[?25h  Getting requirements to build wheel ... \u001b[?25ldone\n",
      "\u001b[?25h  Preparing metadata (pyproject.toml) ... \u001b[?25ldone\n",
      "\u001b[?25hCollecting shapely\n",
      "  Downloading https://pypi.tuna.tsinghua.edu.cn/packages/2d/f2/8ec281d357e8bb7d08dc8d727f0e4c8ef3dae7d3fa75c69c8e452bb82d50/shapely-2.0.1-cp39-cp39-manylinux_2_17_x86_64.manylinux2014_x86_64.whl (2.3 MB)\n",
      "\u001b[2K     \u001b[90m━━━━━━━━━━━━━━━━━━━━━━━━━━━━━━━━━━━━━━━━\u001b[0m \u001b[32m2.3/2.3 MB\u001b[0m \u001b[31m7.7 MB/s\u001b[0m eta \u001b[36m0:00:00\u001b[0m00:01\u001b[0m00:01\u001b[0mm\n",
      "\u001b[?25hRequirement already satisfied: six in /home/superegg/anaconda3/envs/OpenMMLab/lib/python3.9/site-packages (from mmdet>=3.0.0rc6) (1.16.0)\n",
      "Collecting terminaltables\n",
      "  Downloading https://pypi.tuna.tsinghua.edu.cn/packages/c4/fb/ea621e0a19733e01fe4005d46087d383693c0f4a8f824b47d8d4122c87e0/terminaltables-3.1.10-py2.py3-none-any.whl (15 kB)\n",
      "Requirement already satisfied: numpy in /home/superegg/anaconda3/envs/OpenMMLab/lib/python3.9/site-packages (from mmdet>=3.0.0rc6) (1.24.3)\n",
      "Collecting scipy\n",
      "  Downloading https://pypi.tuna.tsinghua.edu.cn/packages/5d/30/b2a2a5bf1a3beefb7609fb871dcc6aef7217c69cef19a4631b7ab5622a8a/scipy-1.10.1-cp39-cp39-manylinux_2_17_x86_64.manylinux2014_x86_64.whl (34.5 MB)\n",
      "\u001b[2K     \u001b[90m━━━━━━━━━━━━━━━━━━━━━━━━━━━━━━━━━━━━━━━━\u001b[0m \u001b[32m34.5/34.5 MB\u001b[0m \u001b[31m6.4 MB/s\u001b[0m eta \u001b[36m0:00:00\u001b[0m00:01\u001b[0m00:01\u001b[0m\n",
      "\u001b[?25hRequirement already satisfied: matplotlib in /home/superegg/anaconda3/envs/OpenMMLab/lib/python3.9/site-packages (from mmdet>=3.0.0rc6) (3.7.1)\n",
      "Requirement already satisfied: mmengine<1.0.0,>=0.7.1 in /home/superegg/anaconda3/envs/OpenMMLab/lib/python3.9/site-packages (from mmdet>=3.0.0rc6) (0.7.3)\n",
      "Requirement already satisfied: mmcv<2.1.0,>=2.0.0rc4 in /home/superegg/anaconda3/envs/OpenMMLab/lib/python3.9/site-packages (from mmdet>=3.0.0rc6) (2.0.0)\n",
      "Requirement already satisfied: pyyaml in /home/superegg/anaconda3/envs/OpenMMLab/lib/python3.9/site-packages (from mmcv<2.1.0,>=2.0.0rc4->mmdet>=3.0.0rc6) (6.0)\n",
      "Requirement already satisfied: addict in /home/superegg/anaconda3/envs/OpenMMLab/lib/python3.9/site-packages (from mmcv<2.1.0,>=2.0.0rc4->mmdet>=3.0.0rc6) (2.4.0)\n",
      "Requirement already satisfied: opencv-python>=3 in /home/superegg/anaconda3/envs/OpenMMLab/lib/python3.9/site-packages (from mmcv<2.1.0,>=2.0.0rc4->mmdet>=3.0.0rc6) (4.7.0.72)\n",
      "Requirement already satisfied: yapf in /home/superegg/anaconda3/envs/OpenMMLab/lib/python3.9/site-packages (from mmcv<2.1.0,>=2.0.0rc4->mmdet>=3.0.0rc6) (0.33.0)\n",
      "Requirement already satisfied: Pillow in /home/superegg/anaconda3/envs/OpenMMLab/lib/python3.9/site-packages (from mmcv<2.1.0,>=2.0.0rc4->mmdet>=3.0.0rc6) (9.5.0)\n",
      "Requirement already satisfied: packaging in /home/superegg/anaconda3/envs/OpenMMLab/lib/python3.9/site-packages (from mmcv<2.1.0,>=2.0.0rc4->mmdet>=3.0.0rc6) (23.0)\n",
      "Requirement already satisfied: termcolor in /home/superegg/anaconda3/envs/OpenMMLab/lib/python3.9/site-packages (from mmengine<1.0.0,>=0.7.1->mmdet>=3.0.0rc6) (2.3.0)\n",
      "Requirement already satisfied: rich in /home/superegg/anaconda3/envs/OpenMMLab/lib/python3.9/site-packages (from mmengine<1.0.0,>=0.7.1->mmdet>=3.0.0rc6) (13.3.5)\n",
      "Requirement already satisfied: importlib-resources>=3.2.0 in /home/superegg/anaconda3/envs/OpenMMLab/lib/python3.9/site-packages (from matplotlib->mmdet>=3.0.0rc6) (5.12.0)\n",
      "Requirement already satisfied: cycler>=0.10 in /home/superegg/anaconda3/envs/OpenMMLab/lib/python3.9/site-packages (from matplotlib->mmdet>=3.0.0rc6) (0.11.0)\n",
      "Requirement already satisfied: pyparsing>=2.3.1 in /home/superegg/anaconda3/envs/OpenMMLab/lib/python3.9/site-packages (from matplotlib->mmdet>=3.0.0rc6) (3.0.9)\n",
      "Requirement already satisfied: fonttools>=4.22.0 in /home/superegg/anaconda3/envs/OpenMMLab/lib/python3.9/site-packages (from matplotlib->mmdet>=3.0.0rc6) (4.39.4)\n",
      "Requirement already satisfied: python-dateutil>=2.7 in /home/superegg/anaconda3/envs/OpenMMLab/lib/python3.9/site-packages (from matplotlib->mmdet>=3.0.0rc6) (2.8.2)\n",
      "Requirement already satisfied: contourpy>=1.0.1 in /home/superegg/anaconda3/envs/OpenMMLab/lib/python3.9/site-packages (from matplotlib->mmdet>=3.0.0rc6) (1.0.7)\n",
      "Requirement already satisfied: kiwisolver>=1.0.1 in /home/superegg/anaconda3/envs/OpenMMLab/lib/python3.9/site-packages (from matplotlib->mmdet>=3.0.0rc6) (1.4.4)\n",
      "Requirement already satisfied: zipp>=3.1.0 in /home/superegg/anaconda3/envs/OpenMMLab/lib/python3.9/site-packages (from importlib-resources>=3.2.0->matplotlib->mmdet>=3.0.0rc6) (3.11.0)\n",
      "Requirement already satisfied: markdown-it-py<3.0.0,>=2.2.0 in /home/superegg/anaconda3/envs/OpenMMLab/lib/python3.9/site-packages (from rich->mmengine<1.0.0,>=0.7.1->mmdet>=3.0.0rc6) (2.2.0)\n",
      "Requirement already satisfied: pygments<3.0.0,>=2.13.0 in /home/superegg/anaconda3/envs/OpenMMLab/lib/python3.9/site-packages (from rich->mmengine<1.0.0,>=0.7.1->mmdet>=3.0.0rc6) (2.15.1)\n"
     ]
    },
    {
     "name": "stdout",
     "output_type": "stream",
     "text": [
      "Requirement already satisfied: tomli>=2.0.1 in /home/superegg/anaconda3/envs/OpenMMLab/lib/python3.9/site-packages (from yapf->mmcv<2.1.0,>=2.0.0rc4->mmdet>=3.0.0rc6) (2.0.1)\n",
      "Requirement already satisfied: mdurl~=0.1 in /home/superegg/anaconda3/envs/OpenMMLab/lib/python3.9/site-packages (from markdown-it-py<3.0.0,>=2.2.0->rich->mmengine<1.0.0,>=0.7.1->mmdet>=3.0.0rc6) (0.1.2)\n",
      "Building wheels for collected packages: pycocotools\n",
      "  Building wheel for pycocotools (pyproject.toml) ... \u001b[?25ldone\n",
      "\u001b[?25h  Created wheel for pycocotools: filename=pycocotools-2.0.6-cp39-cp39-linux_x86_64.whl size=96272 sha256=f6a41a461eafcfc8bf68c2043fdce8bf335befb58b4bfa881ead363c1521926e\n",
      "  Stored in directory: /home/superegg/.cache/pip/wheels/df/40/61/1e4b2fc4aacaadb05b23d10fb90c5fd62b9f4021c48f3fd710\n",
      "Successfully built pycocotools\n",
      "Installing collected packages: terminaltables, shapely, scipy, pycocotools, mmdet\n",
      "Successfully installed mmdet-3.0.0 pycocotools-2.0.6 scipy-1.10.1 shapely-2.0.1 terminaltables-3.1.10\n"
     ]
    }
   ],
   "source": [
    "!pip install -U openmim\n",
    "!mim install mmengine\n",
    "!mim install 'mmcv>=2.0.0'\n",
    "!mim install \"mmdet>=3.0.0rc6\""
   ]
  },
  {
   "cell_type": "markdown",
   "id": "38c55520-071b-41de-91f4-3ec78e16bf27",
   "metadata": {},
   "source": [
    "## 安装其它工具包"
   ]
  },
  {
   "cell_type": "code",
   "execution_count": 2,
   "id": "eb4b3373-f117-46a9-ab43-e67753eb7c61",
   "metadata": {},
   "outputs": [
    {
     "name": "stdout",
     "output_type": "stream",
     "text": [
      "Looking in indexes: https://pypi.tuna.tsinghua.edu.cn/simple\n",
      "Requirement already satisfied: opencv-python in /home/superegg/anaconda3/envs/OpenMMLab/lib/python3.9/site-packages (4.7.0.72)\n",
      "Requirement already satisfied: pillow in /home/superegg/anaconda3/envs/OpenMMLab/lib/python3.9/site-packages (9.5.0)\n",
      "Requirement already satisfied: matplotlib in /home/superegg/anaconda3/envs/OpenMMLab/lib/python3.9/site-packages (3.7.1)\n",
      "Collecting seaborn\n",
      "  Downloading https://pypi.tuna.tsinghua.edu.cn/packages/8f/2e/17bbb83fbf102687bb2aa3d808add39da820a7698159302a1a69bb82e01c/seaborn-0.12.2-py3-none-any.whl (293 kB)\n",
      "\u001b[2K     \u001b[90m━━━━━━━━━━━━━━━━━━━━━━━━━━━━━━━━━━━━━━━\u001b[0m \u001b[32m293.3/293.3 kB\u001b[0m \u001b[31m2.0 MB/s\u001b[0m eta \u001b[36m0:00:00\u001b[0m00:01\u001b[0m00:01\u001b[0m\n",
      "\u001b[?25hCollecting tqdm\n",
      "  Downloading https://pypi.tuna.tsinghua.edu.cn/packages/e6/02/a2cff6306177ae6bc73bc0665065de51dfb3b9db7373e122e2735faf0d97/tqdm-4.65.0-py3-none-any.whl (77 kB)\n",
      "\u001b[2K     \u001b[90m━━━━━━━━━━━━━━━━━━━━━━━━━━━━━━━━━━━━━━━━\u001b[0m \u001b[32m77.1/77.1 kB\u001b[0m \u001b[31m1.9 MB/s\u001b[0m eta \u001b[36m0:00:00\u001b[0ma \u001b[36m0:00:01\u001b[0m\n",
      "\u001b[?25hRequirement already satisfied: pycocotools in /home/superegg/anaconda3/envs/OpenMMLab/lib/python3.9/site-packages (2.0.6)\n",
      "Requirement already satisfied: numpy>=1.17.0 in /home/superegg/anaconda3/envs/OpenMMLab/lib/python3.9/site-packages (from opencv-python) (1.24.3)\n",
      "Requirement already satisfied: contourpy>=1.0.1 in /home/superegg/anaconda3/envs/OpenMMLab/lib/python3.9/site-packages (from matplotlib) (1.0.7)\n",
      "Requirement already satisfied: cycler>=0.10 in /home/superegg/anaconda3/envs/OpenMMLab/lib/python3.9/site-packages (from matplotlib) (0.11.0)\n",
      "Requirement already satisfied: fonttools>=4.22.0 in /home/superegg/anaconda3/envs/OpenMMLab/lib/python3.9/site-packages (from matplotlib) (4.39.4)\n",
      "Requirement already satisfied: python-dateutil>=2.7 in /home/superegg/anaconda3/envs/OpenMMLab/lib/python3.9/site-packages (from matplotlib) (2.8.2)\n",
      "Requirement already satisfied: importlib-resources>=3.2.0 in /home/superegg/anaconda3/envs/OpenMMLab/lib/python3.9/site-packages (from matplotlib) (5.12.0)\n",
      "Requirement already satisfied: pyparsing>=2.3.1 in /home/superegg/anaconda3/envs/OpenMMLab/lib/python3.9/site-packages (from matplotlib) (3.0.9)\n",
      "Requirement already satisfied: packaging>=20.0 in /home/superegg/anaconda3/envs/OpenMMLab/lib/python3.9/site-packages (from matplotlib) (23.0)\n",
      "Requirement already satisfied: kiwisolver>=1.0.1 in /home/superegg/anaconda3/envs/OpenMMLab/lib/python3.9/site-packages (from matplotlib) (1.4.4)\n",
      "Requirement already satisfied: pandas>=0.25 in /home/superegg/anaconda3/envs/OpenMMLab/lib/python3.9/site-packages (from seaborn) (2.0.1)\n",
      "Requirement already satisfied: zipp>=3.1.0 in /home/superegg/anaconda3/envs/OpenMMLab/lib/python3.9/site-packages (from importlib-resources>=3.2.0->matplotlib) (3.11.0)\n",
      "Requirement already satisfied: tzdata>=2022.1 in /home/superegg/anaconda3/envs/OpenMMLab/lib/python3.9/site-packages (from pandas>=0.25->seaborn) (2023.3)\n",
      "Requirement already satisfied: pytz>=2020.1 in /home/superegg/anaconda3/envs/OpenMMLab/lib/python3.9/site-packages (from pandas>=0.25->seaborn) (2022.7)\n",
      "Requirement already satisfied: six>=1.5 in /home/superegg/anaconda3/envs/OpenMMLab/lib/python3.9/site-packages (from python-dateutil>=2.7->matplotlib) (1.16.0)\n",
      "Installing collected packages: tqdm, seaborn\n",
      "Successfully installed seaborn-0.12.2 tqdm-4.65.0\n"
     ]
    }
   ],
   "source": [
    "!pip install opencv-python pillow matplotlib seaborn tqdm pycocotools -i https://pypi.tuna.tsinghua.edu.cn/simple\n"
   ]
  },
  {
   "cell_type": "markdown",
   "id": "0defb2f8-d5ab-4ee4-a66f-85cc17c221de",
   "metadata": {
    "tags": []
   },
   "source": [
    "## 下载 MMPose"
   ]
  },
  {
   "cell_type": "code",
   "execution_count": 3,
   "id": "89026868-58b1-4755-aca3-ded98451e906",
   "metadata": {},
   "outputs": [],
   "source": [
    "# 删掉原有的 mmpose 文件夹（如有）\n",
    "!rm -rf mmpose"
   ]
  },
  {
   "cell_type": "code",
   "execution_count": 1,
   "id": "09c51fee-d040-46cf-8d86-c0248ab7fe84",
   "metadata": {},
   "outputs": [
    {
     "name": "stdout",
     "output_type": "stream",
     "text": [
      "正克隆到 'mmpose'...\n",
      "remote: Enumerating objects: 27394, done.\u001b[K\n",
      "remote: Counting objects: 100% (1216/1216), done.\u001b[K\n",
      "remote: Compressing objects: 100% (623/623), done.\u001b[K\n",
      "remote: Total 27394 (delta 652), reused 1007 (delta 574), pack-reused 26178\u001b[K\n",
      "接收对象中: 100% (27394/27394), 30.08 MiB | 5.08 MiB/s, 完成.\n",
      "处理 delta 中: 100% (19325/19325), 完成.\n"
     ]
    }
   ],
   "source": [
    "# 从 github 上下载最新的 mmpose 源代码\n",
    "!git clone https://github.com/open-mmlab/mmpose.git -b tutorial2023"
   ]
  },
  {
   "cell_type": "code",
   "execution_count": 2,
   "id": "b6a71270-f87b-4cf3-87f0-771f45f38c28",
   "metadata": {},
   "outputs": [],
   "source": [
    "# 进入主目录\n",
    "import os\n",
    "os.chdir('mmpose')"
   ]
  },
  {
   "cell_type": "markdown",
   "id": "f1cd1922-e20a-459a-bf45-e826d8245d88",
   "metadata": {},
   "source": [
    "## 安装 MMPose"
   ]
  },
  {
   "cell_type": "code",
   "execution_count": 3,
   "id": "21e78bae-1d33-478d-8b72-5e8584f6cadf",
   "metadata": {},
   "outputs": [
    {
     "name": "stdout",
     "output_type": "stream",
     "text": [
      "Looking in indexes: https://pypi.tuna.tsinghua.edu.cn/simple\n",
      "Looking in links: https://download.openmmlab.com/mmcv/dist/cu117/torch2.0.0/index.html\n",
      "Obtaining file:///home/superegg/PycharmProjects/OpenMMLab/MMPose_Tutorials/2023/0524/mmpose\n",
      "  Preparing metadata (setup.py) ... \u001b[?25ldone\n",
      "\u001b[?25hCollecting chumpy\n",
      "  Downloading https://pypi.tuna.tsinghua.edu.cn/packages/01/f7/865755c8bdb837841938de622e6c8b5cb6b1c933bde3bd3332f0cd4574f1/chumpy-0.70.tar.gz (50 kB)\n",
      "\u001b[2K     \u001b[90m━━━━━━━━━━━━━━━━━━━━━━━━━━━━━━━━━━━━━━━\u001b[0m \u001b[32m50.6/50.6 kB\u001b[0m \u001b[31m858.2 kB/s\u001b[0m eta \u001b[36m0:00:00\u001b[0m:--:--\u001b[0m\n",
      "\u001b[?25h  Preparing metadata (setup.py) ... \u001b[?25ldone\n",
      "\u001b[?25hCollecting json_tricks\n",
      "  Downloading https://pypi.tuna.tsinghua.edu.cn/packages/4d/03/7ff371381845875e08181a268e3ef1de4c1b59bd3e6a35189d89b6dea64e/json_tricks-3.16.1-py2.py3-none-any.whl (27 kB)\n",
      "Requirement already satisfied: matplotlib in /home/superegg/anaconda3/envs/OpenMMLab/lib/python3.9/site-packages (from mmpose==1.0.0) (3.7.1)\n",
      "Collecting munkres\n",
      "  Downloading https://pypi.tuna.tsinghua.edu.cn/packages/90/ab/0301c945a704218bc9435f0e3c88884f6b19ef234d8899fb47ce1ccfd0c9/munkres-1.1.4-py2.py3-none-any.whl (7.0 kB)\n",
      "Requirement already satisfied: numpy in /home/superegg/anaconda3/envs/OpenMMLab/lib/python3.9/site-packages (from mmpose==1.0.0) (1.24.3)\n",
      "Requirement already satisfied: opencv-python in /home/superegg/anaconda3/envs/OpenMMLab/lib/python3.9/site-packages (from mmpose==1.0.0) (4.7.0.72)\n",
      "Requirement already satisfied: pillow in /home/superegg/anaconda3/envs/OpenMMLab/lib/python3.9/site-packages (from mmpose==1.0.0) (9.5.0)\n",
      "Requirement already satisfied: scipy in /home/superegg/anaconda3/envs/OpenMMLab/lib/python3.9/site-packages (from mmpose==1.0.0) (1.10.1)\n",
      "Requirement already satisfied: torchvision in /home/superegg/anaconda3/envs/OpenMMLab/lib/python3.9/site-packages (from mmpose==1.0.0) (0.15.2)\n",
      "Collecting xtcocotools>=1.12\n",
      "  Downloading https://pypi.tuna.tsinghua.edu.cn/packages/fd/e7/d8a4064322795c26b92f386edf0077f98d902976dd3f0e7b6b9baf912638/xtcocotools-1.13-cp39-cp39-manylinux1_x86_64.whl (293 kB)\n",
      "\u001b[2K     \u001b[90m━━━━━━━━━━━━━━━━━━━━━━━━━━━━━━━━━━━━━━━\u001b[0m \u001b[32m293.6/293.6 kB\u001b[0m \u001b[31m2.1 MB/s\u001b[0m eta \u001b[36m0:00:00\u001b[0m00:01\u001b[0m00:01\u001b[0m\n",
      "\u001b[?25hRequirement already satisfied: mmcv<2.1.0,>=2.0.0 in /home/superegg/anaconda3/envs/OpenMMLab/lib/python3.9/site-packages (from mmpose==1.0.0) (2.0.0)\n",
      "Requirement already satisfied: mmdet<3.1.0,>=3.0.0 in /home/superegg/anaconda3/envs/OpenMMLab/lib/python3.9/site-packages (from mmpose==1.0.0) (3.0.0)\n",
      "Requirement already satisfied: mmengine<1.0.0,>=0.4.0 in /home/superegg/anaconda3/envs/OpenMMLab/lib/python3.9/site-packages (from mmpose==1.0.0) (0.7.3)\n",
      "Requirement already satisfied: yapf in /home/superegg/anaconda3/envs/OpenMMLab/lib/python3.9/site-packages (from mmcv<2.1.0,>=2.0.0->mmpose==1.0.0) (0.33.0)\n",
      "Requirement already satisfied: packaging in /home/superegg/anaconda3/envs/OpenMMLab/lib/python3.9/site-packages (from mmcv<2.1.0,>=2.0.0->mmpose==1.0.0) (23.0)\n",
      "Requirement already satisfied: addict in /home/superegg/anaconda3/envs/OpenMMLab/lib/python3.9/site-packages (from mmcv<2.1.0,>=2.0.0->mmpose==1.0.0) (2.4.0)\n",
      "Requirement already satisfied: pyyaml in /home/superegg/anaconda3/envs/OpenMMLab/lib/python3.9/site-packages (from mmcv<2.1.0,>=2.0.0->mmpose==1.0.0) (6.0)\n",
      "Requirement already satisfied: pycocotools in /home/superegg/anaconda3/envs/OpenMMLab/lib/python3.9/site-packages (from mmdet<3.1.0,>=3.0.0->mmpose==1.0.0) (2.0.6)\n",
      "Requirement already satisfied: shapely in /home/superegg/anaconda3/envs/OpenMMLab/lib/python3.9/site-packages (from mmdet<3.1.0,>=3.0.0->mmpose==1.0.0) (2.0.1)\n",
      "Requirement already satisfied: terminaltables in /home/superegg/anaconda3/envs/OpenMMLab/lib/python3.9/site-packages (from mmdet<3.1.0,>=3.0.0->mmpose==1.0.0) (3.1.10)\n",
      "Requirement already satisfied: six in /home/superegg/anaconda3/envs/OpenMMLab/lib/python3.9/site-packages (from mmdet<3.1.0,>=3.0.0->mmpose==1.0.0) (1.16.0)\n",
      "Requirement already satisfied: rich in /home/superegg/anaconda3/envs/OpenMMLab/lib/python3.9/site-packages (from mmengine<1.0.0,>=0.4.0->mmpose==1.0.0) (13.3.5)\n",
      "Requirement already satisfied: termcolor in /home/superegg/anaconda3/envs/OpenMMLab/lib/python3.9/site-packages (from mmengine<1.0.0,>=0.4.0->mmpose==1.0.0) (2.3.0)\n",
      "Requirement already satisfied: setuptools>=18.0 in /home/superegg/anaconda3/envs/OpenMMLab/lib/python3.9/site-packages (from xtcocotools>=1.12->mmpose==1.0.0) (67.8.0)\n",
      "Collecting cython>=0.27.3\n",
      "  Using cached https://pypi.tuna.tsinghua.edu.cn/packages/2f/6d/7dc0e08b5305ffb790043535460c2bf2e1d2a74e46e1e284d0886c6cb0ed/Cython-0.29.34-cp39-cp39-manylinux_2_17_x86_64.manylinux2014_x86_64.manylinux_2_24_x86_64.whl (2.0 MB)\n",
      "Requirement already satisfied: importlib-resources>=3.2.0 in /home/superegg/anaconda3/envs/OpenMMLab/lib/python3.9/site-packages (from matplotlib->mmpose==1.0.0) (5.12.0)\n",
      "Requirement already satisfied: fonttools>=4.22.0 in /home/superegg/anaconda3/envs/OpenMMLab/lib/python3.9/site-packages (from matplotlib->mmpose==1.0.0) (4.39.4)\n",
      "Requirement already satisfied: contourpy>=1.0.1 in /home/superegg/anaconda3/envs/OpenMMLab/lib/python3.9/site-packages (from matplotlib->mmpose==1.0.0) (1.0.7)\n",
      "Requirement already satisfied: cycler>=0.10 in /home/superegg/anaconda3/envs/OpenMMLab/lib/python3.9/site-packages (from matplotlib->mmpose==1.0.0) (0.11.0)\n",
      "Requirement already satisfied: kiwisolver>=1.0.1 in /home/superegg/anaconda3/envs/OpenMMLab/lib/python3.9/site-packages (from matplotlib->mmpose==1.0.0) (1.4.4)\n",
      "Requirement already satisfied: python-dateutil>=2.7 in /home/superegg/anaconda3/envs/OpenMMLab/lib/python3.9/site-packages (from matplotlib->mmpose==1.0.0) (2.8.2)\n",
      "Requirement already satisfied: pyparsing>=2.3.1 in /home/superegg/anaconda3/envs/OpenMMLab/lib/python3.9/site-packages (from matplotlib->mmpose==1.0.0) (3.0.9)\n",
      "Requirement already satisfied: torch==2.0.1 in /home/superegg/anaconda3/envs/OpenMMLab/lib/python3.9/site-packages (from torchvision->mmpose==1.0.0) (2.0.1)\n",
      "Requirement already satisfied: requests in /home/superegg/anaconda3/envs/OpenMMLab/lib/python3.9/site-packages (from torchvision->mmpose==1.0.0) (2.29.0)\n",
      "Requirement already satisfied: sympy in /home/superegg/anaconda3/envs/OpenMMLab/lib/python3.9/site-packages (from torch==2.0.1->torchvision->mmpose==1.0.0) (1.12)\n",
      "Requirement already satisfied: nvidia-cuda-runtime-cu11==11.7.99 in /home/superegg/anaconda3/envs/OpenMMLab/lib/python3.9/site-packages (from torch==2.0.1->torchvision->mmpose==1.0.0) (11.7.99)\n",
      "Requirement already satisfied: nvidia-cudnn-cu11==8.5.0.96 in /home/superegg/anaconda3/envs/OpenMMLab/lib/python3.9/site-packages (from torch==2.0.1->torchvision->mmpose==1.0.0) (8.5.0.96)\n",
      "Requirement already satisfied: nvidia-nvtx-cu11==11.7.91 in /home/superegg/anaconda3/envs/OpenMMLab/lib/python3.9/site-packages (from torch==2.0.1->torchvision->mmpose==1.0.0) (11.7.91)\n",
      "Requirement already satisfied: nvidia-cuda-nvrtc-cu11==11.7.99 in /home/superegg/anaconda3/envs/OpenMMLab/lib/python3.9/site-packages (from torch==2.0.1->torchvision->mmpose==1.0.0) (11.7.99)\n",
      "Requirement already satisfied: nvidia-cufft-cu11==10.9.0.58 in /home/superegg/anaconda3/envs/OpenMMLab/lib/python3.9/site-packages (from torch==2.0.1->torchvision->mmpose==1.0.0) (10.9.0.58)\n",
      "Requirement already satisfied: nvidia-curand-cu11==10.2.10.91 in /home/superegg/anaconda3/envs/OpenMMLab/lib/python3.9/site-packages (from torch==2.0.1->torchvision->mmpose==1.0.0) (10.2.10.91)\n",
      "Requirement already satisfied: typing-extensions in /home/superegg/anaconda3/envs/OpenMMLab/lib/python3.9/site-packages (from torch==2.0.1->torchvision->mmpose==1.0.0) (4.5.0)\n",
      "Requirement already satisfied: triton==2.0.0 in /home/superegg/anaconda3/envs/OpenMMLab/lib/python3.9/site-packages (from torch==2.0.1->torchvision->mmpose==1.0.0) (2.0.0)\n",
      "Requirement already satisfied: nvidia-cublas-cu11==11.10.3.66 in /home/superegg/anaconda3/envs/OpenMMLab/lib/python3.9/site-packages (from torch==2.0.1->torchvision->mmpose==1.0.0) (11.10.3.66)\n",
      "Requirement already satisfied: networkx in /home/superegg/anaconda3/envs/OpenMMLab/lib/python3.9/site-packages (from torch==2.0.1->torchvision->mmpose==1.0.0) (3.1)\n",
      "Requirement already satisfied: nvidia-cusparse-cu11==11.7.4.91 in /home/superegg/anaconda3/envs/OpenMMLab/lib/python3.9/site-packages (from torch==2.0.1->torchvision->mmpose==1.0.0) (11.7.4.91)\n",
      "Requirement already satisfied: nvidia-nccl-cu11==2.14.3 in /home/superegg/anaconda3/envs/OpenMMLab/lib/python3.9/site-packages (from torch==2.0.1->torchvision->mmpose==1.0.0) (2.14.3)\n",
      "Requirement already satisfied: nvidia-cusolver-cu11==11.4.0.1 in /home/superegg/anaconda3/envs/OpenMMLab/lib/python3.9/site-packages (from torch==2.0.1->torchvision->mmpose==1.0.0) (11.4.0.1)\n",
      "Requirement already satisfied: jinja2 in /home/superegg/anaconda3/envs/OpenMMLab/lib/python3.9/site-packages (from torch==2.0.1->torchvision->mmpose==1.0.0) (3.1.2)\n",
      "Requirement already satisfied: nvidia-cuda-cupti-cu11==11.7.101 in /home/superegg/anaconda3/envs/OpenMMLab/lib/python3.9/site-packages (from torch==2.0.1->torchvision->mmpose==1.0.0) (11.7.101)\n",
      "Requirement already satisfied: filelock in /home/superegg/anaconda3/envs/OpenMMLab/lib/python3.9/site-packages (from torch==2.0.1->torchvision->mmpose==1.0.0) (3.12.0)\n",
      "Requirement already satisfied: wheel in /home/superegg/anaconda3/envs/OpenMMLab/lib/python3.9/site-packages (from nvidia-cublas-cu11==11.10.3.66->torch==2.0.1->torchvision->mmpose==1.0.0) (0.38.4)\n"
     ]
    },
    {
     "name": "stdout",
     "output_type": "stream",
     "text": [
      "Requirement already satisfied: lit in /home/superegg/anaconda3/envs/OpenMMLab/lib/python3.9/site-packages (from triton==2.0.0->torch==2.0.1->torchvision->mmpose==1.0.0) (16.0.5.post0)\n",
      "Requirement already satisfied: cmake in /home/superegg/anaconda3/envs/OpenMMLab/lib/python3.9/site-packages (from triton==2.0.0->torch==2.0.1->torchvision->mmpose==1.0.0) (3.26.3)\n",
      "Requirement already satisfied: zipp>=3.1.0 in /home/superegg/anaconda3/envs/OpenMMLab/lib/python3.9/site-packages (from importlib-resources>=3.2.0->matplotlib->mmpose==1.0.0) (3.11.0)\n",
      "Requirement already satisfied: certifi>=2017.4.17 in /home/superegg/anaconda3/envs/OpenMMLab/lib/python3.9/site-packages (from requests->torchvision->mmpose==1.0.0) (2023.5.7)\n",
      "Requirement already satisfied: urllib3<1.27,>=1.21.1 in /home/superegg/anaconda3/envs/OpenMMLab/lib/python3.9/site-packages (from requests->torchvision->mmpose==1.0.0) (1.26.15)\n",
      "Requirement already satisfied: charset-normalizer<4,>=2 in /home/superegg/anaconda3/envs/OpenMMLab/lib/python3.9/site-packages (from requests->torchvision->mmpose==1.0.0) (2.0.4)\n",
      "Requirement already satisfied: idna<4,>=2.5 in /home/superegg/anaconda3/envs/OpenMMLab/lib/python3.9/site-packages (from requests->torchvision->mmpose==1.0.0) (3.4)\n",
      "Requirement already satisfied: pygments<3.0.0,>=2.13.0 in /home/superegg/anaconda3/envs/OpenMMLab/lib/python3.9/site-packages (from rich->mmengine<1.0.0,>=0.4.0->mmpose==1.0.0) (2.15.1)\n",
      "Requirement already satisfied: markdown-it-py<3.0.0,>=2.2.0 in /home/superegg/anaconda3/envs/OpenMMLab/lib/python3.9/site-packages (from rich->mmengine<1.0.0,>=0.4.0->mmpose==1.0.0) (2.2.0)\n",
      "Requirement already satisfied: tomli>=2.0.1 in /home/superegg/anaconda3/envs/OpenMMLab/lib/python3.9/site-packages (from yapf->mmcv<2.1.0,>=2.0.0->mmpose==1.0.0) (2.0.1)\n",
      "Requirement already satisfied: mdurl~=0.1 in /home/superegg/anaconda3/envs/OpenMMLab/lib/python3.9/site-packages (from markdown-it-py<3.0.0,>=2.2.0->rich->mmengine<1.0.0,>=0.4.0->mmpose==1.0.0) (0.1.2)\n",
      "Requirement already satisfied: MarkupSafe>=2.0 in /home/superegg/anaconda3/envs/OpenMMLab/lib/python3.9/site-packages (from jinja2->torch==2.0.1->torchvision->mmpose==1.0.0) (2.1.1)\n",
      "Requirement already satisfied: mpmath>=0.19 in /home/superegg/anaconda3/envs/OpenMMLab/lib/python3.9/site-packages (from sympy->torch==2.0.1->torchvision->mmpose==1.0.0) (1.3.0)\n",
      "Building wheels for collected packages: chumpy\n",
      "  Building wheel for chumpy (setup.py) ... \u001b[?25ldone\n",
      "\u001b[?25h  Created wheel for chumpy: filename=chumpy-0.70-py3-none-any.whl size=58267 sha256=59f6a39ef8e930334bd13d235954ad740964bd11442b191944eaed4c40f63f5c\n",
      "  Stored in directory: /home/superegg/.cache/pip/wheels/59/b0/85/68797b10f233be0d850c4e6345c2872b48a9b93716ea4342ee\n",
      "Successfully built chumpy\n",
      "Installing collected packages: munkres, json_tricks, cython, chumpy, xtcocotools, mmpose\n",
      "  Running setup.py develop for mmpose\n",
      "Successfully installed chumpy-0.70 cython-0.29.34 json_tricks-3.16.1 mmpose-1.0.0 munkres-1.1.4 xtcocotools-1.13\n"
     ]
    }
   ],
   "source": [
    "!mim install -e ."
   ]
  },
  {
   "cell_type": "markdown",
   "id": "a828bfe4-82e5-497a-9bda-cb9837df2cb3",
   "metadata": {},
   "source": [
    "## 下载预训练模型权重文件和视频素材"
   ]
  },
  {
   "cell_type": "code",
   "execution_count": 4,
   "id": "5aac1d0c-dbf5-478c-ab80-7e2aa0ab0f01",
   "metadata": {},
   "outputs": [],
   "source": [
    "import os\n",
    "\n",
    "# 创建 checkpoint 文件夹，用于存放预训练模型权重文件\n",
    "os.mkdir('checkpoint')\n",
    "\n",
    "# 创建 outputs 文件夹，用于存放预测结果\n",
    "os.mkdir('outputs')\n",
    "\n",
    "# 创建 data 文件夹，用于存放图片和视频素材\n",
    "os.mkdir('data')\n",
    "\n",
    "os.mkdir('data/test')"
   ]
  },
  {
   "cell_type": "code",
   "execution_count": 5,
   "id": "bae3b8b0-07a2-4a79-83cf-42276ea1c9ef",
   "metadata": {},
   "outputs": [
    {
     "name": "stdout",
     "output_type": "stream",
     "text": [
      "--2023-06-04 20:58:51--  https://zihao-openmmlab.obs.cn-east-3.myhuaweicloud.com/20220610-mmpose/images/multi-person.jpeg\n",
      "正在解析主机 zihao-openmmlab.obs.cn-east-3.myhuaweicloud.com (zihao-openmmlab.obs.cn-east-3.myhuaweicloud.com)... 121.36.235.132\n",
      "正在连接 zihao-openmmlab.obs.cn-east-3.myhuaweicloud.com (zihao-openmmlab.obs.cn-east-3.myhuaweicloud.com)|121.36.235.132|:443... 已连接。\n",
      "已发出 HTTP 请求，正在等待回应... 200 OK\n",
      "长度： 604280 (590K) [image/jpeg]\n",
      "正在保存至: “data/test/multi-person.jpeg”\n",
      "\n",
      "data/test/multi-per 100%[===================>] 590.12K  --.-KB/s    用时 0.1s    \n",
      "\n",
      "2023-06-04 20:58:52 (5.04 MB/s) - 已保存 “data/test/multi-person.jpeg” [604280/604280])\n",
      "\n",
      "--2023-06-04 20:58:52--  https://zihao-openmmlab.obs.myhuaweicloud.com/20220610-mmpose/videos/cxk.mp4\n",
      "正在解析主机 zihao-openmmlab.obs.myhuaweicloud.com (zihao-openmmlab.obs.myhuaweicloud.com)... 121.36.235.132\n",
      "正在连接 zihao-openmmlab.obs.myhuaweicloud.com (zihao-openmmlab.obs.myhuaweicloud.com)|121.36.235.132|:443... 已连接。\n",
      "已发出 HTTP 请求，正在等待回应... 200 OK\n",
      "长度： 5535528 (5.3M) [video/mp4]\n",
      "正在保存至: “data/test/cxk.mp4”\n",
      "\n",
      "cxk.mp4             100%[===================>]   5.28M  6.72MB/s    用时 0.8s    \n",
      "\n",
      "2023-06-04 20:58:53 (6.72 MB/s) - 已保存 “data/test/cxk.mp4” [5535528/5535528])\n",
      "\n",
      "--2023-06-04 20:58:53--  https://zihao-openmmlab.obs.myhuaweicloud.com/20220610-mmpose/videos/mother_wx.mp4\n",
      "正在解析主机 zihao-openmmlab.obs.myhuaweicloud.com (zihao-openmmlab.obs.myhuaweicloud.com)... 121.36.235.132\n",
      "正在连接 zihao-openmmlab.obs.myhuaweicloud.com (zihao-openmmlab.obs.myhuaweicloud.com)|121.36.235.132|:443... 已连接。\n",
      "已发出 HTTP 请求，正在等待回应... 200 OK\n",
      "长度： 402665 (393K) [video/mp4]\n",
      "正在保存至: “data/test/mother_wx.mp4”\n",
      "\n",
      "mother_wx.mp4       100%[===================>] 393.23K  --.-KB/s    用时 0.09s   \n",
      "\n",
      "2023-06-04 20:58:53 (4.08 MB/s) - 已保存 “data/test/mother_wx.mp4” [402665/402665])\n",
      "\n",
      "--2023-06-04 20:58:53--  https://zihao-openmmlab.obs.cn-east-3.myhuaweicloud.com/20220610-mmpose/videos/two-girls.mp4\n",
      "正在解析主机 zihao-openmmlab.obs.cn-east-3.myhuaweicloud.com (zihao-openmmlab.obs.cn-east-3.myhuaweicloud.com)... 121.36.235.132\n",
      "正在连接 zihao-openmmlab.obs.cn-east-3.myhuaweicloud.com (zihao-openmmlab.obs.cn-east-3.myhuaweicloud.com)|121.36.235.132|:443... 已连接。\n",
      "已发出 HTTP 请求，正在等待回应... 200 OK\n",
      "长度： 44217475 (42M) [video/mp4]\n",
      "正在保存至: “data/test/two-girls.mp4”\n",
      "\n",
      "data/test/two-girls 100%[===================>]  42.17M  7.21MB/s    用时 6.1s    \n",
      "\n",
      "2023-06-04 20:59:00 (6.86 MB/s) - 已保存 “data/test/two-girls.mp4” [44217475/44217475])\n",
      "\n"
     ]
    }
   ],
   "source": [
    "# 多人图片，来源：https://www.pexels.com/zh-cn/photo/2168292/\n",
    "!wget https://zihao-openmmlab.obs.cn-east-3.myhuaweicloud.com/20220610-mmpose/images/multi-person.jpeg -O data/test/multi-person.jpeg\n",
    "\n",
    "# 单人视频-唱跳篮球 \n",
    "!wget https://zihao-openmmlab.obs.myhuaweicloud.com/20220610-mmpose/videos/cxk.mp4 -P data/test\n",
    "\n",
    "# 妈妈和女儿跳舞，经微信压缩\n",
    "!wget https://zihao-openmmlab.obs.myhuaweicloud.com/20220610-mmpose/videos/mother_wx.mp4 -P data/test\n",
    "\n",
    "# 两个女生跳舞视频，来源：https://mixkit.co/free-stock-video/two-girls-having-fun-in-a-retro-restaurant-42298/\n",
    "!wget https://zihao-openmmlab.obs.cn-east-3.myhuaweicloud.com/20220610-mmpose/videos/two-girls.mp4 -O data/test/two-girls.mp4"
   ]
  },
  {
   "cell_type": "markdown",
   "id": "fa97e1da-f245-4d32-892d-dec07a6b2c16",
   "metadata": {},
   "source": [
    "## 检查安装成功"
   ]
  },
  {
   "cell_type": "code",
   "execution_count": 6,
   "id": "424fca02-13cc-493f-8833-ec63900f02d3",
   "metadata": {},
   "outputs": [
    {
     "name": "stdout",
     "output_type": "stream",
     "text": [
      "Pytorch 版本 2.0.1+cu117\n",
      "CUDA 是否可用 True\n"
     ]
    }
   ],
   "source": [
    "# 检查 Pytorch\n",
    "import torch, torchvision\n",
    "print('Pytorch 版本', torch.__version__)\n",
    "print('CUDA 是否可用',torch.cuda.is_available())"
   ]
  },
  {
   "cell_type": "code",
   "execution_count": 7,
   "id": "96a6e738-d9d3-4e9f-a053-15bf2f29d43b",
   "metadata": {},
   "outputs": [
    {
     "name": "stdout",
     "output_type": "stream",
     "text": [
      "MMCV版本 2.0.0\n",
      "CUDA版本 11.7\n",
      "编译器版本 GCC 9.3\n"
     ]
    }
   ],
   "source": [
    "# 检查 mmcv\n",
    "import mmcv\n",
    "from mmcv.ops import get_compiling_cuda_version, get_compiler_version\n",
    "print('MMCV版本', mmcv.__version__)\n",
    "print('CUDA版本', get_compiling_cuda_version())\n",
    "print('编译器版本', get_compiler_version())"
   ]
  },
  {
   "cell_type": "code",
   "execution_count": 8,
   "id": "dae8b28c-fa1f-4911-ba27-50ed745e9679",
   "metadata": {},
   "outputs": [
    {
     "name": "stdout",
     "output_type": "stream",
     "text": [
      "mmpose版本 1.0.0\n"
     ]
    }
   ],
   "source": [
    "# 检查 mmpose\n",
    "import mmpose\n",
    "print('mmpose版本', mmpose.__version__)"
   ]
  },
  {
   "cell_type": "markdown",
   "id": "6f89f196-6f70-46a5-9715-ee4755717c13",
   "metadata": {},
   "source": [
    "没有报错，即证明安装成功。"
   ]
  },
  {
   "cell_type": "code",
   "execution_count": null,
   "id": "90954e26-49ee-42ad-b2ff-7514e8542db4",
   "metadata": {},
   "outputs": [],
   "source": []
  }
 ],
 "metadata": {
  "kernelspec": {
   "display_name": "Python 3 (ipykernel)",
   "language": "python",
   "name": "python3"
  },
  "language_info": {
   "codemirror_mode": {
    "name": "ipython",
    "version": 3
   },
   "file_extension": ".py",
   "mimetype": "text/x-python",
   "name": "python",
   "nbconvert_exporter": "python",
   "pygments_lexer": "ipython3",
   "version": "3.9.16"
  }
 },
 "nbformat": 4,
 "nbformat_minor": 5
}
