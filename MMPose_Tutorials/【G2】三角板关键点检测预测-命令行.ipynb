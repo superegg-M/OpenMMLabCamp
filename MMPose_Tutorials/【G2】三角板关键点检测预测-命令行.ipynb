{
 "cells": [
  {
   "cell_type": "markdown",
   "id": "466a64ed-7068-4a92-9755-84ea56de799d",
   "metadata": {},
   "source": [
    "# 三角板关键点检测预测-命令行\n",
    "\n",
    "同济子豪兄 2023-4-3 5-23"
   ]
  },
  {
   "cell_type": "markdown",
   "id": "90f3a192-6e82-493d-ad66-f3c8cf16ece5",
   "metadata": {
    "tags": []
   },
   "source": [
    "## 进入 mmpose 主目录"
   ]
  },
  {
   "cell_type": "code",
   "execution_count": 1,
   "id": "801da2ce-97c1-47a2-a211-86336b6f0679",
   "metadata": {},
   "outputs": [],
   "source": [
    "import os\n",
    "os.chdir('mmpose')"
   ]
  },
  {
   "cell_type": "code",
   "execution_count": 2,
   "id": "064ec7a5-b4e2-4197-9a7c-d77c8968f73c",
   "metadata": {},
   "outputs": [],
   "source": [
    "## 目标检测模型\n",
    "\n",
    "# Faster R CNN\n",
    "# data/faster_r_cnn_triangle.py\n",
    "# checkpoint/faster_r_cnn_triangle_epoch_50_202305120846-76d9dde3.pth\n",
    "\n",
    "# RTMDet-Tiny\n",
    "# data/rtmdet_tiny_triangle.py\n",
    "# checkpoint/rtmdet_tiny_triangle_epoch_200_202305120847-3cd02a8f.pth\n",
    "\n",
    "## 关键点检测模型\n",
    "\n",
    "# data/rtmpose-s-triangle.py\n",
    "# checkpoint/rtmpose-s-triangle-300-32642023_20230524.pth"
   ]
  },
  {
   "cell_type": "markdown",
   "id": "8ed4d058-f23c-40d1-a662-910cce1be52b",
   "metadata": {},
   "source": [
    "## 单张图像-关键点检测预测"
   ]
  },
  {
   "cell_type": "code",
   "execution_count": 4,
   "id": "0696f950-5459-493c-bc75-e04123eab06f",
   "metadata": {},
   "outputs": [
    {
     "name": "stdout",
     "output_type": "stream",
     "text": [
      "Loads checkpoint by local backend from path: checkpoint/rtmdet_tiny_ear_epoch_200_202306060108-8e63c2ee.pth\n",
      "Loads checkpoint by local backend from path: checkpoint/rtmpose-s-ear-300-7e76b678_20230606.pth\n",
      "06/06 22:05:54 - mmengine - \u001b[5m\u001b[4m\u001b[33mWARNING\u001b[0m - `Visualizer` backend is not initialized because save_dir is None.\n",
      "/home/superegg/anaconda3/envs/OpenMMLab/lib/python3.9/site-packages/torch/functional.py:504: UserWarning: torch.meshgrid: in an upcoming release, it will be required to pass the indexing argument. (Triggered internally at ../aten/src/ATen/native/TensorShape.cpp:3483.)\n",
      "  return _VF.meshgrid(tensors, **kwargs)  # type: ignore[attr-defined]\n",
      "/home/superegg/PycharmProjects/OpenMMLab/MMPose_Tutorials/mmpose/mmpose/models/heads/coord_cls_heads/rtmcc_head.py:217: UserWarning: The predicted simcc values are normalized for visualization. This may cause discrepancy between the keypoint scores and the 1D heatmaps.\n",
      "  warnings.warn('The predicted simcc values are normalized for '\n"
     ]
    }
   ],
   "source": [
    "# RTMDet --> RTMPose\n",
    "!python demo/topdown_demo_with_mmdet.py \\\n",
    "        data/rtmdet_tiny_ear.py \\\n",
    "        checkpoint/rtmdet_tiny_ear_epoch_200_202306060108-8e63c2ee.pth \\\n",
    "        data/rtmpose-s-ear.py \\\n",
    "        checkpoint/rtmpose-s-ear-300-7e76b678_20230606.pth \\\n",
    "        --input data/my_ear.jpg \\\n",
    "        --output-root outputs/G2_Fasterrcnn-RTMPose \\\n",
    "        --device cuda:0 \\\n",
    "        --bbox-thr 0.5 \\\n",
    "        --kpt-thr 0.5 \\\n",
    "        --nms-thr 0.3 \\\n",
    "        --radius 36 \\\n",
    "        --thickness 30 \\\n",
    "        --draw-bbox \\\n",
    "        --draw-heatmap \\\n",
    "        --show-kpt-idx"
   ]
  },
  {
   "cell_type": "markdown",
   "id": "dd73e683-9186-4868-ade0-ea8dfa5bacd8",
   "metadata": {},
   "source": [
    "## 视频-关键点检测预测"
   ]
  },
  {
   "cell_type": "code",
   "execution_count": 5,
   "id": "22c18333-b46a-4072-bc2a-42a82edf9c3e",
   "metadata": {},
   "outputs": [
    {
     "name": "stdout",
     "output_type": "stream",
     "text": [
      "Loads checkpoint by local backend from path: checkpoint/rtmdet_tiny_ear_epoch_200_202306060108-8e63c2ee.pth\n",
      "Loads checkpoint by local backend from path: checkpoint/rtmpose-s-ear-300-7e76b678_20230606.pth\n",
      "06/06 22:06:48 - mmengine - \u001b[5m\u001b[4m\u001b[33mWARNING\u001b[0m - `Visualizer` backend is not initialized because save_dir is None.\n",
      "/home/superegg/anaconda3/envs/OpenMMLab/lib/python3.9/site-packages/torch/functional.py:504: UserWarning: torch.meshgrid: in an upcoming release, it will be required to pass the indexing argument. (Triggered internally at ../aten/src/ATen/native/TensorShape.cpp:3483.)\n",
      "  return _VF.meshgrid(tensors, **kwargs)  # type: ignore[attr-defined]\n",
      "/home/superegg/PycharmProjects/OpenMMLab/MMPose_Tutorials/mmpose/mmpose/models/heads/coord_cls_heads/rtmcc_head.py:217: UserWarning: The predicted simcc values are normalized for visualization. This may cause discrepancy between the keypoint scores and the 1D heatmaps.\n",
      "  warnings.warn('The predicted simcc values are normalized for '\n",
      "Traceback (most recent call last):\n",
      "  File \"/home/superegg/PycharmProjects/OpenMMLab/MMPose_Tutorials/mmpose/demo/topdown_demo_with_mmdet.py\", line 292, in <module>\n",
      "    main()\n",
      "  File \"/home/superegg/PycharmProjects/OpenMMLab/MMPose_Tutorials/mmpose/demo/topdown_demo_with_mmdet.py\", line 265, in main\n",
      "    if cv2.waitKey(5) & 0xFF == 27:\n",
      "cv2.error: OpenCV(4.7.0) /io/opencv/modules/highgui/src/window.cpp:1338: error: (-2:Unspecified error) The function is not implemented. Rebuild the library with Windows, GTK+ 2.x or Cocoa support. If you are on Ubuntu or Debian, install libgtk2.0-dev and pkg-config, then re-run cmake or configure script in function 'cvWaitKey'\n",
      "\n"
     ]
    }
   ],
   "source": [
    "# RTMDet --> RTMPose\n",
    "!python demo/topdown_demo_with_mmdet.py \\\n",
    "        data/rtmdet_tiny_ear.py \\\n",
    "        checkpoint/rtmdet_tiny_ear_epoch_200_202306060108-8e63c2ee.pth \\\n",
    "        data/rtmpose-s-ear.py \\\n",
    "        checkpoint/rtmpose-s-ear-300-7e76b678_20230606.pth \\\n",
    "        --input data/my_ear.mp4 \\\n",
    "        --output-root outputs/G2_Video \\\n",
    "        --device cuda:0 \\\n",
    "        --bbox-thr 0.5 \\\n",
    "        --kpt-thr 0.5 \\\n",
    "        --nms-thr 0.3 \\\n",
    "        --radius 16 \\\n",
    "        --thickness 10 \\\n",
    "        --draw-bbox \\\n",
    "        --draw-heatmap \\\n",
    "        --show-kpt-idx"
   ]
  },
  {
   "cell_type": "markdown",
   "id": "efeb4973-3558-45c4-98f6-3486ab1e003f",
   "metadata": {},
   "source": [
    "## 摄像头实时画面-关键点检测预测\n",
    "\n",
    "见本地运行的代码教程，需在本地调用摄像头运行，不能在云GPU平台运行"
   ]
  },
  {
   "cell_type": "code",
   "execution_count": null,
   "id": "b57c3d86-42a8-4891-918d-ba2556aebe06",
   "metadata": {},
   "outputs": [],
   "source": []
  }
 ],
 "metadata": {
  "kernelspec": {
   "display_name": "Python 3 (ipykernel)",
   "language": "python",
   "name": "python3"
  },
  "language_info": {
   "codemirror_mode": {
    "name": "ipython",
    "version": 3
   },
   "file_extension": ".py",
   "mimetype": "text/x-python",
   "name": "python",
   "nbconvert_exporter": "python",
   "pygments_lexer": "ipython3",
   "version": "3.9.16"
  }
 },
 "nbformat": 4,
 "nbformat_minor": 5
}
