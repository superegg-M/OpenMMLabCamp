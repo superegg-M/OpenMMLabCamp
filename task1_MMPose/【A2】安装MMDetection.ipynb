{
 "cells": [
  {
   "cell_type": "markdown",
   "id": "bc3d1961-9081-49c9-be56-ad0c748decf1",
   "metadata": {},
   "source": [
    "# 安装MMDetection"
   ]
  },
  {
   "cell_type": "markdown",
   "id": "0fc8ebd8-db6e-4a17-895f-2f87fc98ca79",
   "metadata": {},
   "source": [
    "按照顺序逐行运行本代码，即可安装配置 MMDetection 环境\n",
    "\n",
    "推荐代码运行[云GPU环境](https://featurize.cn?s=d7ce99f842414bfcaea5662a97581bd1)：GPU RTX 3060、CUDA v11.2\n",
    "\n",
    "作者：同济子豪兄 2023-4-3"
   ]
  },
  {
   "cell_type": "markdown",
   "id": "63d0dc47-4601-49a3-8d25-12b4d24fa6f0",
   "metadata": {},
   "source": [
    "> 提示：以下代码运行时，若长时间运行卡着不动，可重启 kernel 后重新运行一遍"
   ]
  },
  {
   "cell_type": "markdown",
   "id": "6fc1c686-1267-4503-b9e4-bcb188a7f974",
   "metadata": {
    "tags": []
   },
   "source": [
    "## 安装Pytorch"
   ]
  },
  {
   "cell_type": "code",
   "execution_count": 1,
   "id": "2fef57fc-d5f0-4cd0-a134-1f025c15439f",
   "metadata": {},
   "outputs": [],
   "source": [
    "# 安装Pytorch\n",
    "!pip3 install install torch==1.10.1+cu113 torchvision==0.11.2+cu113 torchaudio==0.10.1+cu113 -f https://download.pytorch.org/whl/cu113/torch_stable.html\n"
   ]
  },
  {
   "cell_type": "markdown",
   "id": "054b64e4-4796-4136-b45e-3664b281cf30",
   "metadata": {},
   "source": [
    "## 用MIM安装MMCV"
   ]
  },
  {
   "cell_type": "code",
   "execution_count": 2,
   "id": "83b1c9e3-0d69-423d-a8a2-172d18dfdb33",
   "metadata": {},
   "outputs": [],
   "source": [
    "!pip install -U openmim\n",
    "!mim install mmcv-full\n",
    "!mim install mmengine\n",
    "!mim install 'mmcv==2.0.0rc3'\n",
    "!mim install \"mmdet>=3.0.0rc6\""
   ]
  },
  {
   "cell_type": "markdown",
   "id": "38c55520-071b-41de-91f4-3ec78e16bf27",
   "metadata": {},
   "source": [
    "## 安装其它工具包"
   ]
  },
  {
   "cell_type": "code",
   "execution_count": 1,
   "id": "eb4b3373-f117-46a9-ab43-e67753eb7c61",
   "metadata": {},
   "outputs": [
    {
     "name": "stdout",
     "output_type": "stream",
     "text": [
      "Looking in indexes: https://pypi.tuna.tsinghua.edu.cn/simple\n",
      "Requirement already satisfied: opencv-python in /home/superegg/anaconda3/envs/OpenMMLab/lib/python3.9/site-packages (4.7.0.72)\n",
      "Requirement already satisfied: pillow in /home/superegg/anaconda3/envs/OpenMMLab/lib/python3.9/site-packages (9.5.0)\n",
      "Requirement already satisfied: matplotlib in /home/superegg/anaconda3/envs/OpenMMLab/lib/python3.9/site-packages (3.7.1)\n",
      "Requirement already satisfied: seaborn in /home/superegg/anaconda3/envs/OpenMMLab/lib/python3.9/site-packages (0.12.2)\n",
      "Requirement already satisfied: tqdm in /home/superegg/anaconda3/envs/OpenMMLab/lib/python3.9/site-packages (4.65.0)\n",
      "Requirement already satisfied: pycocotools in /home/superegg/anaconda3/envs/OpenMMLab/lib/python3.9/site-packages (2.0.6)\n",
      "Requirement already satisfied: numpy>=1.17.0 in /home/superegg/anaconda3/envs/OpenMMLab/lib/python3.9/site-packages (from opencv-python) (1.24.3)\n",
      "Requirement already satisfied: packaging>=20.0 in /home/superegg/anaconda3/envs/OpenMMLab/lib/python3.9/site-packages (from matplotlib) (23.0)\n",
      "Requirement already satisfied: contourpy>=1.0.1 in /home/superegg/anaconda3/envs/OpenMMLab/lib/python3.9/site-packages (from matplotlib) (1.0.7)\n",
      "Requirement already satisfied: fonttools>=4.22.0 in /home/superegg/anaconda3/envs/OpenMMLab/lib/python3.9/site-packages (from matplotlib) (4.39.4)\n",
      "Requirement already satisfied: kiwisolver>=1.0.1 in /home/superegg/anaconda3/envs/OpenMMLab/lib/python3.9/site-packages (from matplotlib) (1.4.4)\n",
      "Requirement already satisfied: cycler>=0.10 in /home/superegg/anaconda3/envs/OpenMMLab/lib/python3.9/site-packages (from matplotlib) (0.11.0)\n",
      "Requirement already satisfied: importlib-resources>=3.2.0 in /home/superegg/anaconda3/envs/OpenMMLab/lib/python3.9/site-packages (from matplotlib) (5.12.0)\n",
      "Requirement already satisfied: python-dateutil>=2.7 in /home/superegg/anaconda3/envs/OpenMMLab/lib/python3.9/site-packages (from matplotlib) (2.8.2)\n",
      "Requirement already satisfied: pyparsing>=2.3.1 in /home/superegg/anaconda3/envs/OpenMMLab/lib/python3.9/site-packages (from matplotlib) (3.0.9)\n",
      "Requirement already satisfied: pandas>=0.25 in /home/superegg/anaconda3/envs/OpenMMLab/lib/python3.9/site-packages (from seaborn) (2.0.1)\n",
      "Requirement already satisfied: zipp>=3.1.0 in /home/superegg/anaconda3/envs/OpenMMLab/lib/python3.9/site-packages (from importlib-resources>=3.2.0->matplotlib) (3.11.0)\n",
      "Requirement already satisfied: tzdata>=2022.1 in /home/superegg/anaconda3/envs/OpenMMLab/lib/python3.9/site-packages (from pandas>=0.25->seaborn) (2023.3)\n",
      "Requirement already satisfied: pytz>=2020.1 in /home/superegg/anaconda3/envs/OpenMMLab/lib/python3.9/site-packages (from pandas>=0.25->seaborn) (2022.7)\n",
      "Requirement already satisfied: six>=1.5 in /home/superegg/anaconda3/envs/OpenMMLab/lib/python3.9/site-packages (from python-dateutil>=2.7->matplotlib) (1.16.0)\n"
     ]
    }
   ],
   "source": [
    "!pip install opencv-python pillow matplotlib seaborn tqdm pycocotools -i https://pypi.tuna.tsinghua.edu.cn/simple\n"
   ]
  },
  {
   "cell_type": "markdown",
   "id": "0defb2f8-d5ab-4ee4-a66f-85cc17c221de",
   "metadata": {
    "tags": []
   },
   "source": [
    "## 下载 MMDetection"
   ]
  },
  {
   "cell_type": "code",
   "execution_count": 2,
   "id": "89026868-58b1-4755-aca3-ded98451e906",
   "metadata": {},
   "outputs": [],
   "source": [
    "# 删掉原有的 mmdetection 文件夹（如有）\n",
    "!rm -rf mmdetection"
   ]
  },
  {
   "cell_type": "code",
   "execution_count": 3,
   "id": "cacbcda5-9b7a-4baa-979a-418a1f4ca658",
   "metadata": {},
   "outputs": [
    {
     "name": "stdout",
     "output_type": "stream",
     "text": [
      "正克隆到 'mmdetection'...\n",
      "remote: Enumerating objects: 36296, done.\u001b[K\n",
      "remote: Counting objects: 100% (947/947), done.\u001b[K\n",
      "remote: Compressing objects: 100% (534/534), done.\u001b[K\n",
      "remote: Total 36296 (delta 482), reused 711 (delta 400), pack-reused 35349\u001b[K\n",
      "接收对象中: 100% (36296/36296), 56.73 MiB | 2.27 MiB/s, 完成.\n",
      "处理 delta 中: 100% (25417/25417), 完成.\n"
     ]
    }
   ],
   "source": [
    "# 从 github 上下载最新的 mmdetection 源代码\n",
    "!git clone https://github.com/open-mmlab/mmdetection.git -b 3.x"
   ]
  },
  {
   "cell_type": "code",
   "execution_count": 4,
   "id": "b6a71270-f87b-4cf3-87f0-771f45f38c28",
   "metadata": {},
   "outputs": [],
   "source": [
    "# 进入主目录\n",
    "import os\n",
    "os.chdir('mmdetection')"
   ]
  },
  {
   "cell_type": "markdown",
   "id": "f1cd1922-e20a-459a-bf45-e826d8245d88",
   "metadata": {},
   "source": [
    "## 安装 MMDetection"
   ]
  },
  {
   "cell_type": "code",
   "execution_count": 5,
   "id": "21e78bae-1d33-478d-8b72-5e8584f6cadf",
   "metadata": {},
   "outputs": [
    {
     "name": "stdout",
     "output_type": "stream",
     "text": [
      "Using pip 23.0.1 from /home/superegg/anaconda3/envs/OpenMMLab/lib/python3.9/site-packages/pip (python 3.9)\n",
      "Looking in indexes: https://pypi.tuna.tsinghua.edu.cn/simple\n",
      "Obtaining file:///home/superegg/PycharmProjects/OpenMMLab/MMPose_Tutorials/2023/0524/mmdetection\n",
      "  Running command python setup.py egg_info\n",
      "  running egg_info\n",
      "  creating /tmp/pip-pip-egg-info-adkv1_id/mmdet.egg-info\n",
      "  writing /tmp/pip-pip-egg-info-adkv1_id/mmdet.egg-info/PKG-INFO\n",
      "  writing dependency_links to /tmp/pip-pip-egg-info-adkv1_id/mmdet.egg-info/dependency_links.txt\n",
      "  writing requirements to /tmp/pip-pip-egg-info-adkv1_id/mmdet.egg-info/requires.txt\n",
      "  writing top-level names to /tmp/pip-pip-egg-info-adkv1_id/mmdet.egg-info/top_level.txt\n",
      "  writing manifest file '/tmp/pip-pip-egg-info-adkv1_id/mmdet.egg-info/SOURCES.txt'\n",
      "  reading manifest file '/tmp/pip-pip-egg-info-adkv1_id/mmdet.egg-info/SOURCES.txt'\n",
      "  reading manifest template 'MANIFEST.in'\n",
      "  warning: no files found matching 'mmdet/VERSION'\n",
      "  warning: no files found matching 'mmdet/.mim/model-index.yml'\n",
      "  warning: no files found matching 'mmdet/.mim/demo/*/*'\n",
      "  warning: no files found matching '*.py' under directory 'mmdet/.mim/configs'\n",
      "  warning: no files found matching '*.yml' under directory 'mmdet/.mim/configs'\n",
      "  warning: no files found matching '*.sh' under directory 'mmdet/.mim/tools'\n",
      "  warning: no files found matching '*.py' under directory 'mmdet/.mim/tools'\n",
      "  adding license file 'LICENSE'\n",
      "  writing manifest file '/tmp/pip-pip-egg-info-adkv1_id/mmdet.egg-info/SOURCES.txt'\n",
      "  Preparing metadata (setup.py) ... \u001b[?25l\u001b[?25hdone\n",
      "Requirement already satisfied: matplotlib in /home/superegg/anaconda3/envs/OpenMMLab/lib/python3.9/site-packages (from mmdet==3.0.0) (3.7.1)\n",
      "Requirement already satisfied: numpy in /home/superegg/anaconda3/envs/OpenMMLab/lib/python3.9/site-packages (from mmdet==3.0.0) (1.24.3)\n",
      "Requirement already satisfied: pycocotools in /home/superegg/anaconda3/envs/OpenMMLab/lib/python3.9/site-packages (from mmdet==3.0.0) (2.0.6)\n",
      "Requirement already satisfied: scipy in /home/superegg/anaconda3/envs/OpenMMLab/lib/python3.9/site-packages (from mmdet==3.0.0) (1.10.1)\n",
      "Requirement already satisfied: shapely in /home/superegg/anaconda3/envs/OpenMMLab/lib/python3.9/site-packages (from mmdet==3.0.0) (2.0.1)\n",
      "Requirement already satisfied: six in /home/superegg/anaconda3/envs/OpenMMLab/lib/python3.9/site-packages (from mmdet==3.0.0) (1.16.0)\n",
      "Requirement already satisfied: terminaltables in /home/superegg/anaconda3/envs/OpenMMLab/lib/python3.9/site-packages (from mmdet==3.0.0) (3.1.10)\n",
      "Requirement already satisfied: python-dateutil>=2.7 in /home/superegg/anaconda3/envs/OpenMMLab/lib/python3.9/site-packages (from matplotlib->mmdet==3.0.0) (2.8.2)\n",
      "Requirement already satisfied: packaging>=20.0 in /home/superegg/anaconda3/envs/OpenMMLab/lib/python3.9/site-packages (from matplotlib->mmdet==3.0.0) (23.0)\n",
      "Requirement already satisfied: pillow>=6.2.0 in /home/superegg/anaconda3/envs/OpenMMLab/lib/python3.9/site-packages (from matplotlib->mmdet==3.0.0) (9.5.0)\n",
      "Requirement already satisfied: fonttools>=4.22.0 in /home/superegg/anaconda3/envs/OpenMMLab/lib/python3.9/site-packages (from matplotlib->mmdet==3.0.0) (4.39.4)\n",
      "Requirement already satisfied: importlib-resources>=3.2.0 in /home/superegg/anaconda3/envs/OpenMMLab/lib/python3.9/site-packages (from matplotlib->mmdet==3.0.0) (5.12.0)\n",
      "Requirement already satisfied: kiwisolver>=1.0.1 in /home/superegg/anaconda3/envs/OpenMMLab/lib/python3.9/site-packages (from matplotlib->mmdet==3.0.0) (1.4.4)\n",
      "Requirement already satisfied: cycler>=0.10 in /home/superegg/anaconda3/envs/OpenMMLab/lib/python3.9/site-packages (from matplotlib->mmdet==3.0.0) (0.11.0)\n",
      "Requirement already satisfied: contourpy>=1.0.1 in /home/superegg/anaconda3/envs/OpenMMLab/lib/python3.9/site-packages (from matplotlib->mmdet==3.0.0) (1.0.7)\n",
      "Requirement already satisfied: pyparsing>=2.3.1 in /home/superegg/anaconda3/envs/OpenMMLab/lib/python3.9/site-packages (from matplotlib->mmdet==3.0.0) (3.0.9)\n",
      "Requirement already satisfied: zipp>=3.1.0 in /home/superegg/anaconda3/envs/OpenMMLab/lib/python3.9/site-packages (from importlib-resources>=3.2.0->matplotlib->mmdet==3.0.0) (3.11.0)\n",
      "Installing collected packages: mmdet\n",
      "  Attempting uninstall: mmdet\n",
      "    Found existing installation: mmdet 3.0.0\n",
      "    Uninstalling mmdet-3.0.0:\n",
      "      Removing file or directory /home/superegg/anaconda3/envs/OpenMMLab/lib/python3.9/site-packages/mmdet-3.0.0.dist-info/\n",
      "      Removing file or directory /home/superegg/anaconda3/envs/OpenMMLab/lib/python3.9/site-packages/mmdet/\n",
      "      Successfully uninstalled mmdet-3.0.0\n",
      "  Running setup.py develop for mmdet\n",
      "    Running command python setup.py develop\n",
      "    running develop\n",
      "    /home/superegg/anaconda3/envs/OpenMMLab/lib/python3.9/site-packages/setuptools/command/develop.py:40: EasyInstallDeprecationWarning: easy_install command is deprecated.\n",
      "    !!\n",
      "\n",
      "            ********************************************************************************\n",
      "            Please avoid running ``setup.py`` and ``easy_install``.\n",
      "            Instead, use pypa/build, pypa/installer, pypa/build or\n",
      "            other standards-based tools.\n",
      "\n",
      "            See https://github.com/pypa/setuptools/issues/917 for details.\n",
      "            ********************************************************************************\n",
      "\n",
      "    !!\n",
      "      easy_install.initialize_options(self)\n",
      "    /home/superegg/anaconda3/envs/OpenMMLab/lib/python3.9/site-packages/setuptools/_distutils/cmd.py:66: SetuptoolsDeprecationWarning: setup.py install is deprecated.\n",
      "    !!\n",
      "\n",
      "            ********************************************************************************\n",
      "            Please avoid running ``setup.py`` directly.\n",
      "            Instead, use pypa/build, pypa/installer, pypa/build or\n",
      "            other standards-based tools.\n",
      "\n",
      "            See https://blog.ganssle.io/articles/2021/10/setup-py-deprecated.html for details.\n",
      "            ********************************************************************************\n",
      "\n",
      "    !!\n",
      "      self.initialize_options()\n",
      "    running egg_info\n",
      "    creating mmdet.egg-info\n",
      "    writing mmdet.egg-info/PKG-INFO\n",
      "    writing dependency_links to mmdet.egg-info/dependency_links.txt\n",
      "    writing requirements to mmdet.egg-info/requires.txt\n",
      "    writing top-level names to mmdet.egg-info/top_level.txt\n",
      "    writing manifest file 'mmdet.egg-info/SOURCES.txt'\n",
      "    reading manifest file 'mmdet.egg-info/SOURCES.txt'\n",
      "    reading manifest template 'MANIFEST.in'\n",
      "    warning: no files found matching 'mmdet/VERSION'\n",
      "    warning: no files found matching 'mmdet/.mim/demo/*/*'\n",
      "    adding license file 'LICENSE'\n",
      "    writing manifest file 'mmdet.egg-info/SOURCES.txt'\n",
      "    /home/superegg/anaconda3/envs/OpenMMLab/lib/python3.9/site-packages/torch/utils/cpp_extension.py:476: UserWarning: Attempted to use ninja as the BuildExtension backend but we could not find ninja.. Falling back to using the slow distutils backend.\n",
      "      warnings.warn(msg.format('we could not find ninja.'))\n",
      "    running build_ext\n",
      "    Creating /home/superegg/anaconda3/envs/OpenMMLab/lib/python3.9/site-packages/mmdet.egg-link (link to .)\n",
      "    Adding mmdet 3.0.0 to easy-install.pth file\n",
      "\n",
      "    Installed /home/superegg/PycharmProjects/OpenMMLab/MMPose_Tutorials/2023/0524/mmdetection\n",
      "Successfully installed mmdet-3.0.0\n"
     ]
    }
   ],
   "source": [
    "!pip install -v -e ."
   ]
  },
  {
   "cell_type": "markdown",
   "id": "a828bfe4-82e5-497a-9bda-cb9837df2cb3",
   "metadata": {},
   "source": [
    "## 下载预训练模型权重文件和视频素材"
   ]
  },
  {
   "cell_type": "code",
   "execution_count": 6,
   "id": "5aac1d0c-dbf5-478c-ab80-7e2aa0ab0f01",
   "metadata": {},
   "outputs": [],
   "source": [
    "import os\n",
    "\n",
    "# 创建 checkpoint 文件夹，用于存放预训练模型权重文件\n",
    "os.mkdir('checkpoint')\n",
    "\n",
    "# 创建 outputs 文件夹，用于存放预测结果\n",
    "os.mkdir('outputs')\n",
    "\n",
    "# 创建 data 文件夹，用于存放图片和视频素材\n",
    "os.mkdir('data')"
   ]
  },
  {
   "cell_type": "markdown",
   "id": "fa97e1da-f245-4d32-892d-dec07a6b2c16",
   "metadata": {},
   "source": [
    "## 检查安装成功"
   ]
  },
  {
   "cell_type": "code",
   "execution_count": 7,
   "id": "424fca02-13cc-493f-8833-ec63900f02d3",
   "metadata": {},
   "outputs": [
    {
     "name": "stdout",
     "output_type": "stream",
     "text": [
      "Pytorch 版本 2.0.1+cu117\n",
      "CUDA 是否可用 True\n"
     ]
    }
   ],
   "source": [
    "# 检查 Pytorch\n",
    "import torch, torchvision\n",
    "print('Pytorch 版本', torch.__version__)\n",
    "print('CUDA 是否可用',torch.cuda.is_available())"
   ]
  },
  {
   "cell_type": "code",
   "execution_count": 8,
   "id": "96a6e738-d9d3-4e9f-a053-15bf2f29d43b",
   "metadata": {},
   "outputs": [
    {
     "name": "stdout",
     "output_type": "stream",
     "text": [
      "MMCV版本 2.0.0\n",
      "CUDA版本 11.7\n",
      "编译器版本 GCC 9.3\n"
     ]
    }
   ],
   "source": [
    "# 检查 mmcv\n",
    "import mmcv\n",
    "from mmcv.ops import get_compiling_cuda_version, get_compiler_version\n",
    "print('MMCV版本', mmcv.__version__)\n",
    "print('CUDA版本', get_compiling_cuda_version())\n",
    "print('编译器版本', get_compiler_version())"
   ]
  },
  {
   "cell_type": "code",
   "execution_count": 1,
   "id": "dae8b28c-fa1f-4911-ba27-50ed745e9679",
   "metadata": {},
   "outputs": [
    {
     "ename": "ModuleNotFoundError",
     "evalue": "No module named 'mmdet'",
     "output_type": "error",
     "traceback": [
      "\u001b[0;31m---------------------------------------------------------------------------\u001b[0m",
      "\u001b[0;31mModuleNotFoundError\u001b[0m                       Traceback (most recent call last)",
      "Cell \u001b[0;32mIn[1], line 2\u001b[0m\n\u001b[1;32m      1\u001b[0m \u001b[38;5;66;03m# 检查 mmpose\u001b[39;00m\n\u001b[0;32m----> 2\u001b[0m \u001b[38;5;28;01mimport\u001b[39;00m \u001b[38;5;21;01mmmdet\u001b[39;00m\n\u001b[1;32m      3\u001b[0m \u001b[38;5;28mprint\u001b[39m(\u001b[38;5;124m'\u001b[39m\u001b[38;5;124mmmdetection版本\u001b[39m\u001b[38;5;124m'\u001b[39m, mmdet\u001b[38;5;241m.\u001b[39m__version__)\n",
      "\u001b[0;31mModuleNotFoundError\u001b[0m: No module named 'mmdet'"
     ]
    }
   ],
   "source": [
    "# 检查 mmpose\n",
    "import mmdet\n",
    "print('mmdetection版本', mmdet.__version__)"
   ]
  },
  {
   "cell_type": "markdown",
   "id": "6f89f196-6f70-46a5-9715-ee4755717c13",
   "metadata": {},
   "source": [
    "没有报错，即证明安装成功。"
   ]
  },
  {
   "cell_type": "code",
   "execution_count": null,
   "id": "90954e26-49ee-42ad-b2ff-7514e8542db4",
   "metadata": {},
   "outputs": [],
   "source": []
  }
 ],
 "metadata": {
  "kernelspec": {
   "display_name": "Python 3 (ipykernel)",
   "language": "python",
   "name": "python3"
  },
  "language_info": {
   "codemirror_mode": {
    "name": "ipython",
    "version": 3
   },
   "file_extension": ".py",
   "mimetype": "text/x-python",
   "name": "python",
   "nbconvert_exporter": "python",
   "pygments_lexer": "ipython3",
   "version": "3.9.16"
  }
 },
 "nbformat": 4,
 "nbformat_minor": 5
}
