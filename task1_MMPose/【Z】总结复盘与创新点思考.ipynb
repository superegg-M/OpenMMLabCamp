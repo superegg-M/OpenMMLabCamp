{
 "cells": [
  {
   "cell_type": "markdown",
   "id": "cb2dea82-b80d-4c76-b479-4569570b3f3f",
   "metadata": {},
   "source": [
    "# 关键点检测-创新点思考\n",
    "\n",
    "同济子豪兄 \n",
    "\n",
    "2023-4-5 2023-5-12"
   ]
  },
  {
   "cell_type": "markdown",
   "id": "cd7c5beb-1388-47f5-9769-28ad58c4de5d",
   "metadata": {
    "tags": []
   },
   "source": [
    "## 数据集\n",
    "\n",
    "- 标注你自己专业和领域的关键点检测数据集（医疗、交通、机械、动植物）\n",
    "\n",
    "- 标注你自己专业的动作识别数据集\n",
    "\n",
    "- 标注数据时使用半监督自动化辅助标注\n",
    "\n",
    "- 标注数据时使用“分割一切视觉大模型SAM”辅助标注\n",
    "\n",
    "\n",
    "## 算法模型\n",
    "\n",
    "- 使用MMDetection模型库的其它目标检测算法，训练目标检测模型：https://github.com/open-mmlab/mmdetection\n",
    "\n",
    "- 使用MMYOLO模型库的其它目标检测算法，训练目标检测模型：https://github.com/open-mmlab/mmyolo\n",
    "\n",
    "- 使用MMPose模型库的其它关键点检测算法，训练关键点检测模型：https://github.com/open-mmlab/mmpose\n",
    "\n",
    "- 分别用不同尺寸的RTMPose模型训练关键点检测模型，比较速度和精度差异\n",
    "\n",
    "- 使用MMAction2，训练视频动作识别模型：https://github.com/open-mmlab/mmaction2\n",
    "\n",
    "- 使用MMRazor，对模型进行剪枝、量化、知识蒸馏等轻量化压缩：https://github.com/open-mmlab/mmrazor\n",
    "\n",
    "- 分别使用Top-Down和Bottom-Up关键点检测算法，比较预测结果\n",
    "\n",
    "- 对于重叠、遮挡、旋转、出画面的情况，如何进一步改进？\n",
    "\n",
    "- 对于视频数据，如何利用上一帧或上几帧的预测结果进行追踪？\n",
    "\n",
    "- 对于极端条件下（弱光、大雾、沙尘、过曝）的姿态估计，如何改进？\n",
    "\n",
    "- 如何将后处理写进forward，使rtmpose变为端到端模型？\n",
    "\n",
    "- 在topdown算法中，假如目标移动过快，会造成什么问题？如何优化？\n",
    "\n",
    "- 如何减轻关键点预测抖动？\n",
    "\n",
    "## 评价指标\n",
    "\n",
    "- 如何更科学地评估关键点检测算法的速度、精度性能？\n",
    "\n",
    "## 工程部署\n",
    "\n",
    "- 使用MMDeploy，将模型部署在各种推理引擎和终端设备上：https://github.com/open-mmlab/mmdeploy\n",
    "\n",
    "- 更换不同的推理引擎（TensorRT、ONNX Runtime、OpenVino）\n",
    "\n",
    "- 在智能手机端部署关键点检测算法\n",
    "\n",
    "## 应用场景\n",
    "\n",
    "- 健身动作计数与打分：https://www.bilibili.com/video/BV1dL4y1h7Q6\n",
    "\n",
    "- 行为识别：https://github.com/open-mmlab/mmaction2\n",
    "\n",
    "- 对两组舞蹈动作进行相似度匹配？\n",
    "\n",
    "- 在机械臂上部署关键点检测计算机视觉算法，实现模仿人手、穴位推拿按摩、艾灸、针灸，甚至穿刺\n",
    "\n",
    "- 关键点检测+AIGC\n",
    "\n",
    "https://github.com/open-mmlab/mmpose/tree/dev-1.x/projects/mmpose4aigc\n",
    "\n",
    "https://github.com/lllyasviel/ControlNet"
   ]
  },
  {
   "cell_type": "code",
   "execution_count": null,
   "id": "bb6825b2-fa4c-4c40-9fd8-e2ed5ff1cccd",
   "metadata": {},
   "outputs": [],
   "source": []
  }
 ],
 "metadata": {
  "kernelspec": {
   "display_name": "Python 3 (ipykernel)",
   "language": "python",
   "name": "python3"
  },
  "language_info": {
   "codemirror_mode": {
    "name": "ipython",
    "version": 3
   },
   "file_extension": ".py",
   "mimetype": "text/x-python",
   "name": "python",
   "nbconvert_exporter": "python",
   "pygments_lexer": "ipython3",
   "version": "3.7.10"
  }
 },
 "nbformat": 4,
 "nbformat_minor": 5
}
