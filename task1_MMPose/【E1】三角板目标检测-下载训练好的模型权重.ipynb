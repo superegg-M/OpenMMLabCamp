{
 "cells": [
  {
   "cell_type": "markdown",
   "id": "6d6ad43b-8fde-4c7b-ad67-1bce62c08afd",
   "metadata": {},
   "source": [
    "# 三角板目标检测-下载训练好的模型权重\n",
    "\n",
    "同济子豪兄 2023-4-5"
   ]
  },
  {
   "cell_type": "markdown",
   "id": "9170e712-665b-4533-ab7b-b6343548f6e4",
   "metadata": {
    "tags": []
   },
   "source": [
    "## 进入 mmpose 主目录 或 mmdetection 主目录"
   ]
  },
  {
   "cell_type": "code",
   "execution_count": 1,
   "id": "11c3a96e-94cc-475e-8f78-bcf02d281052",
   "metadata": {},
   "outputs": [],
   "source": [
    "import os\n",
    "os.chdir('mmpose')\n",
    "# os.chdir('mmdetection')"
   ]
  },
  {
   "cell_type": "markdown",
   "id": "38e401ff-17b7-4bc9-b021-441fefe89aeb",
   "metadata": {},
   "source": [
    "## 下载模型权重文件至`checkpoint`目录"
   ]
  },
  {
   "cell_type": "code",
   "execution_count": 4,
   "id": "925110d5-8510-4d79-9b03-75246f828a3b",
   "metadata": {},
   "outputs": [],
   "source": [
    "# Faster R CNN 三角板目标检测\n",
    "!rm -rf checkpoint/faster_r_cnn_triangle_epoch_50_202305120846-76d9dde3.pth\n",
    "!wget https://zihao-openmmlab.obs.cn-east-3.myhuaweicloud.com/20220610-mmpose/triangle_dataset/ckpt/0512/faster_r_cnn_triangle_epoch_50_202305120846-76d9dde3.pth -P checkpoint\n"
   ]
  },
  {
   "cell_type": "code",
   "execution_count": 5,
   "id": "ea2bfc79-95df-4994-a068-b35c5854c902",
   "metadata": {},
   "outputs": [],
   "source": [
    "# RTMDet-Tiny 三角板目标检测\n",
    "!rm -rf checkpoint/rtmdet_tiny_triangle_epoch_200_202305120847-3cd02a8f.pth\n",
    "!wget https://zihao-openmmlab.obs.cn-east-3.myhuaweicloud.com/20220610-mmpose/triangle_dataset/ckpt/0512/rtmdet_tiny_triangle_epoch_200_202305120847-3cd02a8f.pth -P checkpoint\n"
   ]
  },
  {
   "cell_type": "markdown",
   "id": "7b7f0e5e-862c-4da5-b713-0fd2b34ea782",
   "metadata": {},
   "source": [
    "## 注意，要在`mmpose`和`mmdetection`两个目录都运行一遍"
   ]
  },
  {
   "cell_type": "code",
   "execution_count": null,
   "id": "c0759d57-0042-46c6-98b4-acbf525bc114",
   "metadata": {},
   "outputs": [],
   "source": []
  }
 ],
 "metadata": {
  "kernelspec": {
   "display_name": "Python 3 (ipykernel)",
   "language": "python",
   "name": "python3"
  },
  "language_info": {
   "codemirror_mode": {
    "name": "ipython",
    "version": 3
   },
   "file_extension": ".py",
   "mimetype": "text/x-python",
   "name": "python",
   "nbconvert_exporter": "python",
   "pygments_lexer": "ipython3",
   "version": "3.7.10"
  }
 },
 "nbformat": 4,
 "nbformat_minor": 5
}
