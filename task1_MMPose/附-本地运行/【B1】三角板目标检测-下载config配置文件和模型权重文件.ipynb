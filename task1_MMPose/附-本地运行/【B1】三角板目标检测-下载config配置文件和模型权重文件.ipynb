{
 "cells": [
  {
   "cell_type": "markdown",
   "id": "9b7cedd3",
   "metadata": {},
   "source": [
    "# 三角板目标检测-下载config配置文件和模型权重文件\n",
    "\n",
    "同济子豪兄 2023-4-5"
   ]
  },
  {
   "cell_type": "markdown",
   "id": "be4f99e5",
   "metadata": {},
   "source": [
    "## 进入 mmpose 主目录 或 mmdetection 主目录"
   ]
  },
  {
   "cell_type": "code",
   "execution_count": null,
   "id": "cffa5e65",
   "metadata": {},
   "outputs": [],
   "source": [
    "import os\n",
    "os.chdir('mmpose')\n",
    "# os.chdir('mmdetection')"
   ]
  },
  {
   "cell_type": "markdown",
   "id": "878f0aa8",
   "metadata": {},
   "source": [
    "## 下载config配置文件至`data`目录"
   ]
  },
  {
   "cell_type": "code",
   "execution_count": null,
   "id": "e478810f",
   "metadata": {},
   "outputs": [],
   "source": [
    "# Faster R CNN 三角板目标检测\n",
    "!rm -rf data/faster_r_cnn_triangle.py\n",
    "!wget https://zihao-openmmlab.obs.myhuaweicloud.com/20220610-mmpose/triangle_dataset/faster_r_cnn_triangle.py -P data"
   ]
  },
  {
   "cell_type": "code",
   "execution_count": null,
   "id": "8ade9976",
   "metadata": {},
   "outputs": [],
   "source": [
    "# RTMDet-Tiny 三角板目标检测\n",
    "!rm -rf data/rtmdet_tiny_triangle.py\n",
    "!wget https://zihao-openmmlab.obs.myhuaweicloud.com/20220610-mmpose/triangle_dataset/rtmdet_tiny_triangle.py -P data"
   ]
  },
  {
   "cell_type": "markdown",
   "id": "5ed35bef",
   "metadata": {},
   "source": [
    "## 下载模型权重文件至`checkpoint`目录"
   ]
  },
  {
   "cell_type": "code",
   "execution_count": null,
   "id": "f3ed1cba",
   "metadata": {},
   "outputs": [],
   "source": [
    "# Faster R CNN 三角板目标检测\n",
    "!rm -rf checkpoint/faster_r_cnn_triangle_epoch_50_202305120846-76d9dde3.pth\n",
    "!wget https://zihao-openmmlab.obs.cn-east-3.myhuaweicloud.com/20220610-mmpose/triangle_dataset/ckpt/0512/faster_r_cnn_triangle_epoch_50_202305120846-76d9dde3.pth -P checkpoint\n"
   ]
  },
  {
   "cell_type": "code",
   "execution_count": null,
   "id": "ec097063",
   "metadata": {},
   "outputs": [],
   "source": [
    "# RTMDet-S 三角板目标检测\n",
    "!rm -rf checkpoint/rtmdet_tiny_triangle_epoch_200_202305120847-3cd02a8f.pth\n",
    "!wget https://zihao-openmmlab.obs.cn-east-3.myhuaweicloud.com/20220610-mmpose/triangle_dataset/ckpt/0512/rtmdet_tiny_triangle_epoch_200_202305120847-3cd02a8f.pth -P checkpoint\n"
   ]
  },
  {
   "cell_type": "markdown",
   "id": "7f59e21f",
   "metadata": {},
   "source": [
    "## 注意，要在`mmpose`和`mmdetection`两个目录都运行一遍"
   ]
  },
  {
   "cell_type": "code",
   "execution_count": null,
   "id": "f4123702",
   "metadata": {},
   "outputs": [],
   "source": []
  }
 ],
 "metadata": {
  "kernelspec": {
   "display_name": "Python 3 (ipykernel)",
   "language": "python",
   "name": "python3"
  },
  "language_info": {
   "codemirror_mode": {
    "name": "ipython",
    "version": 3
   },
   "file_extension": ".py",
   "mimetype": "text/x-python",
   "name": "python",
   "nbconvert_exporter": "python",
   "pygments_lexer": "ipython3",
   "version": "3.7.12"
  }
 },
 "nbformat": 4,
 "nbformat_minor": 5
}
